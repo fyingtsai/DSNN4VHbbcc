{
 "cells": [
  {
   "cell_type": "code",
   "execution_count": 1,
   "metadata": {},
   "outputs": [],
   "source": [
    "\"\"\"An example involving Energy Flow Networks (EFNs), which were introduced \n",
    "in [1810.05165](https://arxiv.org/abs/1810.05165). The [`EFN`](../docs/\n",
    "archs/#efn) class is used to construct the network architecture.\n",
    "The output of the example is a plot of the ROC curves obtained by\n",
    "the EFN as well as the jet mass and constituent multiplicity \n",
    "observables.\n",
    "\"\"\"\n",
    "\n",
    "# standard library imports\n",
    "from __future__ import absolute_import, division, print_function\n",
    "\n",
    "# standard numerical library imports\n",
    "import numpy as np\n",
    "\n",
    "# energyflow imports\n",
    "import energyflow as ef\n",
    "from energyflow.archs import EFN\n",
    "from energyflow.datasets import qg_jets\n",
    "from energyflow.utils import data_split, to_categorical\n",
    "\n",
    "# attempt to import sklearn\n",
    "try:\n",
    "    from sklearn.metrics import roc_auc_score, roc_curve\n",
    "except:\n",
    "    print('please install scikit-learn in order to make ROC curves')\n",
    "    roc_curve = False\n",
    "\n",
    "# attempt to import matplotlib\n",
    "try:\n",
    "    import matplotlib.pyplot as plt\n",
    "except:\n",
    "    print('please install matploltib in order to make plots')\n",
    "    plt = False\n",
    "    \n",
    "import tensorflow as tf"
   ]
  },
  {
   "cell_type": "code",
   "execution_count": 5,
   "metadata": {},
   "outputs": [],
   "source": [
    "def foo():\n",
    "    \"\"\"lol catz\"\"\"\n",
    "    pass\n",
    "\n",
    "bar = foo\n",
    "bar.__doc__ = 'hey'"
   ]
  },
  {
   "cell_type": "code",
   "execution_count": 6,
   "metadata": {},
   "outputs": [
    {
     "data": {
      "text/plain": [
       "'hey'"
      ]
     },
     "execution_count": 6,
     "metadata": {},
     "output_type": "execute_result"
    }
   ],
   "source": [
    "foo.__doc__"
   ]
  },
  {
   "cell_type": "code",
   "execution_count": 2,
   "metadata": {},
   "outputs": [
    {
     "name": "stdout",
     "output_type": "stream",
     "text": [
      "Loaded quark and gluon jets\n",
      "Finished preprocessing\n",
      "Done train/val/test split\n"
     ]
    }
   ],
   "source": [
    "train, val, test = 75000, 10000, 15000\n",
    "\n",
    "# load data\n",
    "X, y = qg_jets.load(train + val + test, pad=False, ncol=3)\n",
    "\n",
    "# convert labels to categorical\n",
    "Y = to_categorical(y, num_classes=2)\n",
    "\n",
    "print('Loaded quark and gluon jets')\n",
    "\n",
    "# preprocess by centering jets and normalizing pts\n",
    "for x in X:\n",
    "    yphi_avg = np.average(x[:,1:3], weights=x[:,0], axis=0)\n",
    "    x[:,1:3] -= yphi_avg\n",
    "    x[:,0] /= x[:,0].sum()\n",
    "\n",
    "print('Finished preprocessing')\n",
    "\n",
    "# do train/val/test split \n",
    "(z_train, z_val, z_test, \n",
    " p_train, p_val, p_test,\n",
    " Y_train, Y_val, Y_test) = data_split(np.asarray([x[:,0] for x in X], dtype='O'),\n",
    "                                      np.asarray([x[:,1:3] for x in X], dtype='O'),\n",
    "                                      Y, val=val, test=test)\n",
    "X_train, X_val, X_test = data_split(X, val=val, test=test) \n",
    "\n",
    "print('Done train/val/test split')"
   ]
  },
  {
   "cell_type": "code",
   "execution_count": 2,
   "metadata": {},
   "outputs": [
    {
     "name": "stdout",
     "output_type": "stream",
     "text": [
      "Loaded quark and gluon jets\n",
      "Finished preprocessing\n",
      "Done train/val/test split\n",
      "Model summary:\n",
      "Model: \"functional_1\"\n",
      "__________________________________________________________________________________________________\n",
      "Layer (type)                    Output Shape         Param #     Connected to                     \n",
      "==================================================================================================\n",
      "phats_input (InputLayer)        [(None, None, 2)]    0                                            \n",
      "__________________________________________________________________________________________________\n",
      "tdist_0 (TimeDistributed)       (None, None, 100)    300         phats_input[0][0]                \n",
      "__________________________________________________________________________________________________\n",
      "activation (Activation)         (None, None, 100)    0           tdist_0[0][0]                    \n",
      "__________________________________________________________________________________________________\n",
      "tdist_1 (TimeDistributed)       (None, None, 100)    10100       activation[0][0]                 \n",
      "__________________________________________________________________________________________________\n",
      "activation_1 (Activation)       (None, None, 100)    0           tdist_1[0][0]                    \n",
      "__________________________________________________________________________________________________\n",
      "zs_input (InputLayer)           [(None, None)]       0                                            \n",
      "__________________________________________________________________________________________________\n",
      "tdist_2 (TimeDistributed)       (None, None, 128)    12928       activation_1[0][0]               \n",
      "__________________________________________________________________________________________________\n",
      "mask (Lambda)                   (None, None)         0           zs_input[0][0]                   \n",
      "__________________________________________________________________________________________________\n",
      "activation_2 (Activation)       (None, None, 128)    0           tdist_2[0][0]                    \n",
      "__________________________________________________________________________________________________\n",
      "sum (Dot)                       (None, 128)          0           mask[0][0]                       \n",
      "                                                                 activation_2[0][0]               \n",
      "__________________________________________________________________________________________________\n",
      "dense_0 (Dense)                 (None, 100)          12900       sum[0][0]                        \n",
      "__________________________________________________________________________________________________\n",
      "activation_3 (Activation)       (None, 100)          0           dense_0[0][0]                    \n",
      "__________________________________________________________________________________________________\n",
      "dense_1 (Dense)                 (None, 100)          10100       activation_3[0][0]               \n",
      "__________________________________________________________________________________________________\n",
      "activation_4 (Activation)       (None, 100)          0           dense_1[0][0]                    \n",
      "__________________________________________________________________________________________________\n",
      "dense_2 (Dense)                 (None, 100)          10100       activation_4[0][0]               \n",
      "__________________________________________________________________________________________________\n",
      "activation_5 (Activation)       (None, 100)          0           dense_2[0][0]                    \n",
      "__________________________________________________________________________________________________\n",
      "output (Dense)                  (None, 2)            202         activation_5[0][0]               \n",
      "__________________________________________________________________________________________________\n",
      "activation_6 (Activation)       (None, 2)            0           output[0][0]                     \n",
      "==================================================================================================\n",
      "Total params: 56,630\n",
      "Trainable params: 56,630\n",
      "Non-trainable params: 0\n",
      "__________________________________________________________________________________________________\n",
      "<PrefetchDataset shapes: (((None, None), (None, None, 2)), (None, 2)), types: ((tf.float32, tf.float32), tf.float32)>\n"
     ]
    }
   ],
   "source": [
    "\"\"\"An example using Energy Flow Networks (EFNs), which were introduced in\n",
    "[1810.05165](https://arxiv.org/abs/1810.05165), to classify quark and gluon\n",
    "jets. The [`EFN`](../docs/archs/#efn) class is used to construct the network\n",
    "architecture. This example is meant to highlight the usafe of PFNs with\n",
    "Tensorflow datasets, in particular the function `tf_point_cloud_dataset` which\n",
    "helpfully formats things in the proper way.  The output of the example is a\n",
    "plot of the ROC curves obtained by the EFN as well as the jet mass and\n",
    "constituent multiplicity observables.\n",
    "\"\"\"\n",
    "\n",
    "# standard library imports\n",
    "from __future__ import absolute_import, division, print_function\n",
    "\n",
    "# standard numerical library imports\n",
    "import numpy as np\n",
    "\n",
    "# energyflow imports\n",
    "import energyflow as ef\n",
    "from energyflow.archs import EFN, tf_point_cloud_dataset\n",
    "from energyflow.datasets import qg_jets\n",
    "from energyflow.utils import data_split, to_categorical\n",
    "\n",
    "from sklearn.metrics import roc_auc_score, roc_curve\n",
    "import matplotlib.pyplot as plt\n",
    "\n",
    "################################### SETTINGS ##################################\n",
    "# the commented values correspond to those in 1810.05165\n",
    "###############################################################################\n",
    "\n",
    "# data controls, can go up to 2000000 total for full dataset\n",
    "train, val, test = 75000, 10000, 15000\n",
    "# train, val, test = 1000000, 200000, 200000\n",
    "\n",
    "# network architecture parameters\n",
    "Phi_sizes, F_sizes = (100, 100, 128), (100, 100, 100)\n",
    "# Phi_sizes, F_sizes = (100, 100, 256), (100, 100, 100)\n",
    "\n",
    "# network training parameters\n",
    "num_epoch = 5\n",
    "batch_size = 500\n",
    "\n",
    "###############################################################################\n",
    "\n",
    "# load data\n",
    "X, y = qg_jets.load(train + val + test, pad=False, ncol=3)\n",
    "\n",
    "# convert labels to categorical\n",
    "Y = to_categorical(y, num_classes=2)\n",
    "\n",
    "print('Loaded quark and gluon jets')\n",
    "\n",
    "# preprocess by centering jets and normalizing pts\n",
    "for x in X:\n",
    "    yphi_avg = np.average(x[:,1:3], weights=x[:,0], axis=0)\n",
    "    x[:,1:3] -= yphi_avg\n",
    "    x[:,0] /= x[:,0].sum()\n",
    "\n",
    "print('Finished preprocessing')\n",
    "\n",
    "# do train/val/test split \n",
    "(z_train, z_val, z_test, \n",
    " p_train, p_val, p_test,\n",
    " Y_train, Y_val, Y_test) = data_split(np.asarray([x[:,0] for x in X], dtype='O'),\n",
    "                                      np.asarray([x[:,1:] for x in X], dtype='O'),\n",
    "                                      Y, val=val, test=test)\n",
    "\n",
    "print('Done train/val/test split')\n",
    "print('Model summary:')\n",
    "\n",
    "# build architecture\n",
    "efn = EFN(input_dim=2, Phi_sizes=Phi_sizes, F_sizes=F_sizes)\n",
    "\n",
    "# train model\n",
    "d_train = tf_point_cloud_dataset([(z_train, p_train), Y_train], batch_size)\n",
    "d_val = tf_point_cloud_dataset([(z_val, p_val), Y_val], batch_size)\n",
    "print(d_train)"
   ]
  },
  {
   "cell_type": "code",
   "execution_count": 3,
   "metadata": {},
   "outputs": [
    {
     "name": "stdout",
     "output_type": "stream",
     "text": [
      "(500, 101) (500, 101, 2) (500, 2)\n",
      "(500, 102) (500, 102, 2) (500, 2)\n",
      "(500, 114) (500, 114, 2) (500, 2)\n",
      "(500, 118) (500, 118, 2) (500, 2)\n",
      "(500, 113) (500, 113, 2) (500, 2)\n"
     ]
    }
   ],
   "source": [
    "for x in d_train.take(5).as_numpy_iterator():\n",
    "    print(x[0][0].shape, x[0][1].shape, x[1].shape)"
   ]
  },
  {
   "cell_type": "code",
   "execution_count": 3,
   "metadata": {},
   "outputs": [
    {
     "data": {
      "text/plain": [
       "<ZipDataset shapes: (((None, 3),),), types: ((tf.float32,),)>"
      ]
     },
     "execution_count": 3,
     "metadata": {},
     "output_type": "execute_result"
    }
   ],
   "source": [
    "ef.archs.tf_point_cloud_dataset([[X_train]])"
   ]
  },
  {
   "cell_type": "code",
   "execution_count": null,
   "metadata": {},
   "outputs": [],
   "source": []
  },
  {
   "cell_type": "code",
   "execution_count": null,
   "metadata": {},
   "outputs": [],
   "source": []
  },
  {
   "cell_type": "code",
   "execution_count": 8,
   "metadata": {},
   "outputs": [],
   "source": [
    "d = ef.archs.tf_point_cloud_dataset([[z_train, p_train], Y_train])"
   ]
  },
  {
   "cell_type": "code",
   "execution_count": 10,
   "metadata": {},
   "outputs": [
    {
     "ename": "TypeError",
     "evalue": "dataset length is unknown.",
     "output_type": "error",
     "traceback": [
      "\u001b[0;31m---------------------------------------------------------------------------\u001b[0m",
      "\u001b[0;31mTypeError\u001b[0m                                 Traceback (most recent call last)",
      "\u001b[0;32m<ipython-input-10-017d7f50046f>\u001b[0m in \u001b[0;36m<module>\u001b[0;34m\u001b[0m\n\u001b[0;32m----> 1\u001b[0;31m \u001b[0mlen\u001b[0m\u001b[0;34m(\u001b[0m\u001b[0md\u001b[0m\u001b[0;34m)\u001b[0m\u001b[0;34m\u001b[0m\u001b[0;34m\u001b[0m\u001b[0m\n\u001b[0m",
      "\u001b[0;32m~/.local/lib/python3.8/site-packages/tensorflow/python/data/ops/dataset_ops.py\u001b[0m in \u001b[0;36m__len__\u001b[0;34m(self)\u001b[0m\n\u001b[1;32m    445\u001b[0m       \u001b[0;32mraise\u001b[0m \u001b[0mTypeError\u001b[0m\u001b[0;34m(\u001b[0m\u001b[0;34m\"dataset length is infinite.\"\u001b[0m\u001b[0;34m)\u001b[0m\u001b[0;34m\u001b[0m\u001b[0;34m\u001b[0m\u001b[0m\n\u001b[1;32m    446\u001b[0m     \u001b[0;32mif\u001b[0m \u001b[0mlength\u001b[0m\u001b[0;34m.\u001b[0m\u001b[0mnumpy\u001b[0m\u001b[0;34m(\u001b[0m\u001b[0;34m)\u001b[0m \u001b[0;34m==\u001b[0m \u001b[0mUNKNOWN\u001b[0m\u001b[0;34m:\u001b[0m\u001b[0;34m\u001b[0m\u001b[0;34m\u001b[0m\u001b[0m\n\u001b[0;32m--> 447\u001b[0;31m       \u001b[0;32mraise\u001b[0m \u001b[0mTypeError\u001b[0m\u001b[0;34m(\u001b[0m\u001b[0;34m\"dataset length is unknown.\"\u001b[0m\u001b[0;34m)\u001b[0m\u001b[0;34m\u001b[0m\u001b[0;34m\u001b[0m\u001b[0m\n\u001b[0m\u001b[1;32m    448\u001b[0m     \u001b[0;32mreturn\u001b[0m \u001b[0mlength\u001b[0m\u001b[0;34m\u001b[0m\u001b[0;34m\u001b[0m\u001b[0m\n\u001b[1;32m    449\u001b[0m \u001b[0;34m\u001b[0m\u001b[0m\n",
      "\u001b[0;31mTypeError\u001b[0m: dataset length is unknown."
     ]
    }
   ],
   "source": [
    "len(d)"
   ]
  },
  {
   "cell_type": "code",
   "execution_count": null,
   "metadata": {},
   "outputs": [],
   "source": []
  },
  {
   "cell_type": "code",
   "execution_count": null,
   "metadata": {},
   "outputs": [],
   "source": []
  },
  {
   "cell_type": "code",
   "execution_count": 23,
   "metadata": {},
   "outputs": [],
   "source": [
    "d = tf.data.Dataset.from_generator(ef.archs.tf_gen(y), (tf.float32), ())"
   ]
  },
  {
   "cell_type": "code",
   "execution_count": 39,
   "metadata": {},
   "outputs": [
    {
     "data": {
      "text/plain": [
       "['_GeneratorState',\n",
       " '__abstractmethods__',\n",
       " '__bool__',\n",
       " '__class__',\n",
       " '__delattr__',\n",
       " '__dict__',\n",
       " '__dir__',\n",
       " '__doc__',\n",
       " '__eq__',\n",
       " '__format__',\n",
       " '__ge__',\n",
       " '__getattribute__',\n",
       " '__gt__',\n",
       " '__hash__',\n",
       " '__init__',\n",
       " '__init_subclass__',\n",
       " '__iter__',\n",
       " '__le__',\n",
       " '__len__',\n",
       " '__lt__',\n",
       " '__module__',\n",
       " '__ne__',\n",
       " '__new__',\n",
       " '__nonzero__',\n",
       " '__reduce__',\n",
       " '__reduce_ex__',\n",
       " '__repr__',\n",
       " '__setattr__',\n",
       " '__sizeof__',\n",
       " '__slots__',\n",
       " '__str__',\n",
       " '__subclasshook__',\n",
       " '__weakref__',\n",
       " '_abc_impl',\n",
       " '_add_variable_with_custom_getter',\n",
       " '_apply_options',\n",
       " '_as_serialized_graph',\n",
       " '_checkpoint_dependencies',\n",
       " '_consumers',\n",
       " '_deferred_dependencies',\n",
       " '_flat_shapes',\n",
       " '_flat_structure',\n",
       " '_flat_types',\n",
       " '_functions',\n",
       " '_gather_saveables_for_checkpoint',\n",
       " '_graph',\n",
       " '_graph_attr',\n",
       " '_handle_deferred_dependencies',\n",
       " '_has_captured_ref',\n",
       " '_input_dataset',\n",
       " '_inputs',\n",
       " '_list_extra_dependencies_for_serialization',\n",
       " '_list_functions_for_serialization',\n",
       " '_lookup_dependency',\n",
       " '_map_func',\n",
       " '_map_resources',\n",
       " '_maybe_initialize_trackable',\n",
       " '_name_based_attribute_restore',\n",
       " '_name_based_restores',\n",
       " '_no_dependency',\n",
       " '_object_identifier',\n",
       " '_options_attr',\n",
       " '_preload_simple_restoration',\n",
       " '_restore_from_checkpoint_position',\n",
       " '_self_name_based_restores',\n",
       " '_self_saveable_object_factories',\n",
       " '_self_setattr_tracking',\n",
       " '_self_unconditional_checkpoint_dependencies',\n",
       " '_self_unconditional_deferred_dependencies',\n",
       " '_self_unconditional_dependency_names',\n",
       " '_self_update_uid',\n",
       " '_setattr_tracking',\n",
       " '_shape_invariant_to_type_spec',\n",
       " '_single_restoration_from_checkpoint_position',\n",
       " '_structure',\n",
       " '_tf_api_names',\n",
       " '_tf_api_names_v1',\n",
       " '_trace_variant_creation',\n",
       " '_track_trackable',\n",
       " '_tracking_metadata',\n",
       " '_transformation_name',\n",
       " '_type_spec',\n",
       " '_unconditional_checkpoint_dependencies',\n",
       " '_unconditional_dependency_names',\n",
       " '_update_uid',\n",
       " '_variant_tensor',\n",
       " '_variant_tensor_attr',\n",
       " '_variant_tracker',\n",
       " 'apply',\n",
       " 'as_numpy_iterator',\n",
       " 'batch',\n",
       " 'cache',\n",
       " 'cardinality',\n",
       " 'concatenate',\n",
       " 'element_spec',\n",
       " 'enumerate',\n",
       " 'filter',\n",
       " 'flat_map',\n",
       " 'from_generator',\n",
       " 'from_tensor_slices',\n",
       " 'from_tensors',\n",
       " 'interleave',\n",
       " 'list_files',\n",
       " 'map',\n",
       " 'options',\n",
       " 'padded_batch',\n",
       " 'prefetch',\n",
       " 'range',\n",
       " 'reduce',\n",
       " 'repeat',\n",
       " 'shard',\n",
       " 'shuffle',\n",
       " 'skip',\n",
       " 'take',\n",
       " 'unbatch',\n",
       " 'window',\n",
       " 'with_options',\n",
       " 'zip']"
      ]
     },
     "execution_count": 39,
     "metadata": {},
     "output_type": "execute_result"
    }
   ],
   "source": [
    "dir(d)"
   ]
  },
  {
   "cell_type": "code",
   "execution_count": 30,
   "metadata": {},
   "outputs": [
    {
     "data": {
      "text/plain": [
       "True"
      ]
     },
     "execution_count": 30,
     "metadata": {},
     "output_type": "execute_result"
    }
   ],
   "source": [
    "isinstance(d, tf.data.Dataset)"
   ]
  },
  {
   "cell_type": "code",
   "execution_count": 24,
   "metadata": {},
   "outputs": [
    {
     "data": {
      "text/plain": [
       "[1.0, 1.0, 1.0, 1.0, 1.0]"
      ]
     },
     "execution_count": 24,
     "metadata": {},
     "output_type": "execute_result"
    }
   ],
   "source": [
    "list(d.take(5).as_numpy_iterator())"
   ]
  },
  {
   "cell_type": "code",
   "execution_count": 15,
   "metadata": {},
   "outputs": [
    {
     "ename": "TypeError",
     "evalue": "int() argument must be a string, a bytes-like object or a number, not 'type'",
     "output_type": "error",
     "traceback": [
      "\u001b[0;31m---------------------------------------------------------------------------\u001b[0m",
      "\u001b[0;31mTypeError\u001b[0m                                 Traceback (most recent call last)",
      "\u001b[0;32m<ipython-input-15-3c80fd954993>\u001b[0m in \u001b[0;36m<module>\u001b[0;34m\u001b[0m\n\u001b[0;32m----> 1\u001b[0;31m \u001b[0mtf\u001b[0m\u001b[0;34m.\u001b[0m\u001b[0mDType\u001b[0m\u001b[0;34m(\u001b[0m\u001b[0mnp\u001b[0m\u001b[0;34m.\u001b[0m\u001b[0mfloat32\u001b[0m\u001b[0;34m)\u001b[0m\u001b[0;34m\u001b[0m\u001b[0;34m\u001b[0m\u001b[0m\n\u001b[0m",
      "\u001b[0;31mTypeError\u001b[0m: int() argument must be a string, a bytes-like object or a number, not 'type'"
     ]
    }
   ],
   "source": [
    "tf.DType(np.float32)"
   ]
  },
  {
   "cell_type": "code",
   "execution_count": 10,
   "metadata": {},
   "outputs": [],
   "source": [
    "d_X_train = tf.data.Dataset.from_generator(ef.archs.tf_gen(z_train, p_train),\n",
    "                                           (tf.float32, tf.float32),\n",
    "                                           ((None,), (None, 3)))"
   ]
  },
  {
   "cell_type": "code",
   "execution_count": 16,
   "metadata": {},
   "outputs": [
    {
     "data": {
      "text/plain": [
       "tf.float32"
      ]
     },
     "execution_count": 16,
     "metadata": {},
     "output_type": "execute_result"
    }
   ],
   "source": [
    "tf.as_dtype('float32')"
   ]
  },
  {
   "cell_type": "code",
   "execution_count": 5,
   "metadata": {},
   "outputs": [],
   "source": [
    "d_z_train = tf.data.Dataset.from_generator(ef.archs.tf_gen(z_train), tf.float32, (None,))\n",
    "d_p_train = tf.data.Dataset.from_generator(ef.archs.tf_gen(p_train), tf.float32, (None, 2))\n",
    "d_Y_train = tf.data.Dataset.from_tensor_slices(Y_train.astype('float32'))"
   ]
  },
  {
   "cell_type": "code",
   "execution_count": 9,
   "metadata": {},
   "outputs": [],
   "source": [
    "d_t = tf.data.Dataset.zip((tf.data.Dataset.zip((d_z_train, d_p_train)), d_Y_train))"
   ]
  },
  {
   "cell_type": "code",
   "execution_count": null,
   "metadata": {},
   "outputs": [],
   "source": []
  },
  {
   "cell_type": "code",
   "execution_count": 10,
   "metadata": {},
   "outputs": [
    {
     "data": {
      "text/plain": [
       "((TensorSpec(shape=(None, None), dtype=tf.float32, name=None),\n",
       "  TensorSpec(shape=(None, None, 2), dtype=tf.float32, name=None)),\n",
       " TensorSpec(shape=(None, 2), dtype=tf.float32, name=None))"
      ]
     },
     "execution_count": 10,
     "metadata": {},
     "output_type": "execute_result"
    }
   ],
   "source": [
    "d_train.element_spec"
   ]
  },
  {
   "cell_type": "code",
   "execution_count": 11,
   "metadata": {},
   "outputs": [
    {
     "data": {
      "text/plain": [
       "((TensorSpec(shape=(None,), dtype=tf.float32, name=None),\n",
       "  TensorSpec(shape=(None, 2), dtype=tf.float32, name=None)),\n",
       " TensorSpec(shape=(2,), dtype=tf.float32, name=None))"
      ]
     },
     "execution_count": 11,
     "metadata": {},
     "output_type": "execute_result"
    }
   ],
   "source": [
    "d_t.element_spec"
   ]
  },
  {
   "cell_type": "code",
   "execution_count": 14,
   "metadata": {},
   "outputs": [
    {
     "data": {
      "text/plain": [
       "((TensorSpec(shape=(None, None), dtype=tf.float32, name=None),\n",
       "  TensorSpec(shape=(None, None, 2), dtype=tf.float32, name=None)),\n",
       " TensorSpec(shape=(None, 2), dtype=tf.float32, name=None))"
      ]
     },
     "execution_count": 14,
     "metadata": {},
     "output_type": "execute_result"
    }
   ],
   "source": [
    "d_t.padded_batch(10).element_spec"
   ]
  },
  {
   "cell_type": "code",
   "execution_count": 15,
   "metadata": {},
   "outputs": [
    {
     "name": "stdout",
     "output_type": "stream",
     "text": [
      "(10, 72) (10, 72, 2) (10, 2)\n",
      "(10, 75) (10, 75, 2) (10, 2)\n",
      "(10, 63) (10, 63, 2) (10, 2)\n",
      "(10, 55) (10, 55, 2) (10, 2)\n",
      "(10, 62) (10, 62, 2) (10, 2)\n"
     ]
    }
   ],
   "source": [
    "for x in d_t.padded_batch(10).prefetch(2).take(5).as_numpy_iterator():\n",
    "    print(x[0][0].shape, x[0][1].shape, x[1].shape)"
   ]
  },
  {
   "cell_type": "code",
   "execution_count": 6,
   "metadata": {},
   "outputs": [
    {
     "name": "stdout",
     "output_type": "stream",
     "text": [
      "Model: \"functional_1\"\n",
      "__________________________________________________________________________________________________\n",
      "Layer (type)                    Output Shape         Param #     Connected to                     \n",
      "==================================================================================================\n",
      "phats_input (InputLayer)        [(None, None, 2)]    0                                            \n",
      "__________________________________________________________________________________________________\n",
      "tdist_0 (TimeDistributed)       (None, None, 100)    300         phats_input[0][0]                \n",
      "__________________________________________________________________________________________________\n",
      "activation (Activation)         (None, None, 100)    0           tdist_0[0][0]                    \n",
      "__________________________________________________________________________________________________\n",
      "tdist_1 (TimeDistributed)       (None, None, 100)    10100       activation[0][0]                 \n",
      "__________________________________________________________________________________________________\n",
      "activation_1 (Activation)       (None, None, 100)    0           tdist_1[0][0]                    \n",
      "__________________________________________________________________________________________________\n",
      "zs_input (InputLayer)           [(None, None)]       0                                            \n",
      "__________________________________________________________________________________________________\n",
      "tdist_2 (TimeDistributed)       (None, None, 128)    12928       activation_1[0][0]               \n",
      "__________________________________________________________________________________________________\n",
      "mask (Lambda)                   (None, None)         0           zs_input[0][0]                   \n",
      "__________________________________________________________________________________________________\n",
      "activation_2 (Activation)       (None, None, 128)    0           tdist_2[0][0]                    \n",
      "__________________________________________________________________________________________________\n",
      "sum (Dot)                       (None, 128)          0           mask[0][0]                       \n",
      "                                                                 activation_2[0][0]               \n",
      "__________________________________________________________________________________________________\n",
      "dense_0 (Dense)                 (None, 100)          12900       sum[0][0]                        \n",
      "__________________________________________________________________________________________________\n",
      "activation_3 (Activation)       (None, 100)          0           dense_0[0][0]                    \n",
      "__________________________________________________________________________________________________\n",
      "dense_1 (Dense)                 (None, 100)          10100       activation_3[0][0]               \n",
      "__________________________________________________________________________________________________\n",
      "activation_4 (Activation)       (None, 100)          0           dense_1[0][0]                    \n",
      "__________________________________________________________________________________________________\n",
      "dense_2 (Dense)                 (None, 100)          10100       activation_4[0][0]               \n",
      "__________________________________________________________________________________________________\n",
      "activation_5 (Activation)       (None, 100)          0           dense_2[0][0]                    \n",
      "__________________________________________________________________________________________________\n",
      "output (Dense)                  (None, 2)            202         activation_5[0][0]               \n",
      "__________________________________________________________________________________________________\n",
      "activation_6 (Activation)       (None, 2)            0           output[0][0]                     \n",
      "==================================================================================================\n",
      "Total params: 56,630\n",
      "Trainable params: 56,630\n",
      "Non-trainable params: 0\n",
      "__________________________________________________________________________________________________\n"
     ]
    }
   ],
   "source": [
    "# build architecture\n",
    "efn = ef.archs.efn.EFN(input_dim=2, Phi_sizes=(100, 100, 128), F_sizes=(100, 100, 100))"
   ]
  },
  {
   "cell_type": "code",
   "execution_count": 27,
   "metadata": {},
   "outputs": [],
   "source": [
    "d_X_train = tf.data.Dataset.from_generator(ef.archs.tf_gen(X_train), tf.float32, (None, 3))\n",
    "d_Y_train = tf.data.Dataset.from_tensor_slices(Y_train.astype('float32'))\n",
    "\n",
    "#d_train = tf.data.Dataset.zip((d_X_train, d_Y_train))\n",
    "d_train = tf.data.Dataset.from_generator(ef.archs.tf_gen(X_train, y[:train]),\n",
    "                                         (tf.float32, tf.float32),\n",
    "                                         ((None, 3), ()))"
   ]
  },
  {
   "cell_type": "code",
   "execution_count": 28,
   "metadata": {},
   "outputs": [
    {
     "name": "stdout",
     "output_type": "stream",
     "text": [
      "Epoch 1/2\n",
      "WARNING:tensorflow:Model was constructed with shape (None, None) for input Tensor(\"zs_input:0\", shape=(None, None), dtype=float32), but it was called on an input with incompatible shape (None, None, 3).\n"
     ]
    },
    {
     "ename": "AssertionError",
     "evalue": "in user code:\n\n    /home/pkomiske/.local/lib/python3.8/site-packages/tensorflow/python/keras/engine/training.py:806 train_function  *\n        return step_function(self, iterator)\n    /home/pkomiske/.local/lib/python3.8/site-packages/tensorflow/python/keras/engine/training.py:796 step_function  **\n        outputs = model.distribute_strategy.run(run_step, args=(data,))\n    /home/pkomiske/.local/lib/python3.8/site-packages/tensorflow/python/distribute/distribute_lib.py:1211 run\n        return self._extended.call_for_each_replica(fn, args=args, kwargs=kwargs)\n    /home/pkomiske/.local/lib/python3.8/site-packages/tensorflow/python/distribute/distribute_lib.py:2585 call_for_each_replica\n        return self._call_for_each_replica(fn, args, kwargs)\n    /home/pkomiske/.local/lib/python3.8/site-packages/tensorflow/python/distribute/distribute_lib.py:2945 _call_for_each_replica\n        return fn(*args, **kwargs)\n    /home/pkomiske/.local/lib/python3.8/site-packages/tensorflow/python/keras/engine/training.py:789 run_step  **\n        outputs = model.train_step(data)\n    /home/pkomiske/.local/lib/python3.8/site-packages/tensorflow/python/keras/engine/training.py:747 train_step\n        y_pred = self(x, training=True)\n    /home/pkomiske/.local/lib/python3.8/site-packages/tensorflow/python/keras/engine/base_layer.py:985 __call__\n        outputs = call_fn(inputs, *args, **kwargs)\n    /home/pkomiske/.local/lib/python3.8/site-packages/tensorflow/python/keras/engine/functional.py:385 call\n        return self._run_internal_graph(\n    /home/pkomiske/.local/lib/python3.8/site-packages/tensorflow/python/keras/engine/functional.py:517 _run_internal_graph\n        assert x_id in tensor_dict, 'Could not compute output ' + str(x)\n\n    AssertionError: Could not compute output Tensor(\"activation_6/Softmax:0\", shape=(None, 2), dtype=float32)\n",
     "output_type": "error",
     "traceback": [
      "\u001b[0;31m---------------------------------------------------------------------------\u001b[0m",
      "\u001b[0;31mAssertionError\u001b[0m                            Traceback (most recent call last)",
      "\u001b[0;32m<ipython-input-28-fef4b2e8f805>\u001b[0m in \u001b[0;36m<module>\u001b[0;34m\u001b[0m\n\u001b[0;32m----> 1\u001b[0;31m \u001b[0mefn\u001b[0m\u001b[0;34m.\u001b[0m\u001b[0mfit\u001b[0m\u001b[0;34m(\u001b[0m\u001b[0md_train\u001b[0m\u001b[0;34m.\u001b[0m\u001b[0mpadded_batch\u001b[0m\u001b[0;34m(\u001b[0m\u001b[0;36m100\u001b[0m\u001b[0;34m)\u001b[0m\u001b[0;34m,\u001b[0m \u001b[0mepochs\u001b[0m\u001b[0;34m=\u001b[0m\u001b[0;36m2\u001b[0m\u001b[0;34m,\u001b[0m \u001b[0msteps_per_epoch\u001b[0m\u001b[0;34m=\u001b[0m\u001b[0;32mNone\u001b[0m\u001b[0;34m)\u001b[0m\u001b[0;34m\u001b[0m\u001b[0;34m\u001b[0m\u001b[0m\n\u001b[0m",
      "\u001b[0;32m~/Dropbox (MIT)/Research/EnergyFlow/energyflow/archs/archbase.py\u001b[0m in \u001b[0;36mfit\u001b[0;34m(self, *args, **kwargs)\u001b[0m\n\u001b[1;32m    326\u001b[0m \u001b[0;34m\u001b[0m\u001b[0m\n\u001b[1;32m    327\u001b[0m         \u001b[0;31m# do the fitting\u001b[0m\u001b[0;34m\u001b[0m\u001b[0;34m\u001b[0m\u001b[0;34m\u001b[0m\u001b[0m\n\u001b[0;32m--> 328\u001b[0;31m         \u001b[0mhist\u001b[0m \u001b[0;34m=\u001b[0m \u001b[0mself\u001b[0m\u001b[0;34m.\u001b[0m\u001b[0mmodel\u001b[0m\u001b[0;34m.\u001b[0m\u001b[0mfit\u001b[0m\u001b[0;34m(\u001b[0m\u001b[0;34m*\u001b[0m\u001b[0margs\u001b[0m\u001b[0;34m,\u001b[0m \u001b[0;34m**\u001b[0m\u001b[0mkwargs\u001b[0m\u001b[0;34m)\u001b[0m\u001b[0;34m\u001b[0m\u001b[0;34m\u001b[0m\u001b[0m\n\u001b[0m\u001b[1;32m    329\u001b[0m \u001b[0;34m\u001b[0m\u001b[0m\n\u001b[1;32m    330\u001b[0m         \u001b[0;31m# handle saving at the end, if we weren't already saving throughout\u001b[0m\u001b[0;34m\u001b[0m\u001b[0;34m\u001b[0m\u001b[0;34m\u001b[0m\u001b[0m\n",
      "\u001b[0;32m~/.local/lib/python3.8/site-packages/tensorflow/python/keras/engine/training.py\u001b[0m in \u001b[0;36m_method_wrapper\u001b[0;34m(self, *args, **kwargs)\u001b[0m\n\u001b[1;32m    106\u001b[0m   \u001b[0;32mdef\u001b[0m \u001b[0m_method_wrapper\u001b[0m\u001b[0;34m(\u001b[0m\u001b[0mself\u001b[0m\u001b[0;34m,\u001b[0m \u001b[0;34m*\u001b[0m\u001b[0margs\u001b[0m\u001b[0;34m,\u001b[0m \u001b[0;34m**\u001b[0m\u001b[0mkwargs\u001b[0m\u001b[0;34m)\u001b[0m\u001b[0;34m:\u001b[0m\u001b[0;34m\u001b[0m\u001b[0;34m\u001b[0m\u001b[0m\n\u001b[1;32m    107\u001b[0m     \u001b[0;32mif\u001b[0m \u001b[0;32mnot\u001b[0m \u001b[0mself\u001b[0m\u001b[0;34m.\u001b[0m\u001b[0m_in_multi_worker_mode\u001b[0m\u001b[0;34m(\u001b[0m\u001b[0;34m)\u001b[0m\u001b[0;34m:\u001b[0m  \u001b[0;31m# pylint: disable=protected-access\u001b[0m\u001b[0;34m\u001b[0m\u001b[0;34m\u001b[0m\u001b[0m\n\u001b[0;32m--> 108\u001b[0;31m       \u001b[0;32mreturn\u001b[0m \u001b[0mmethod\u001b[0m\u001b[0;34m(\u001b[0m\u001b[0mself\u001b[0m\u001b[0;34m,\u001b[0m \u001b[0;34m*\u001b[0m\u001b[0margs\u001b[0m\u001b[0;34m,\u001b[0m \u001b[0;34m**\u001b[0m\u001b[0mkwargs\u001b[0m\u001b[0;34m)\u001b[0m\u001b[0;34m\u001b[0m\u001b[0;34m\u001b[0m\u001b[0m\n\u001b[0m\u001b[1;32m    109\u001b[0m \u001b[0;34m\u001b[0m\u001b[0m\n\u001b[1;32m    110\u001b[0m     \u001b[0;31m# Running inside `run_distribute_coordinator` already.\u001b[0m\u001b[0;34m\u001b[0m\u001b[0;34m\u001b[0m\u001b[0;34m\u001b[0m\u001b[0m\n",
      "\u001b[0;32m~/.local/lib/python3.8/site-packages/tensorflow/python/keras/engine/training.py\u001b[0m in \u001b[0;36mfit\u001b[0;34m(self, x, y, batch_size, epochs, verbose, callbacks, validation_split, validation_data, shuffle, class_weight, sample_weight, initial_epoch, steps_per_epoch, validation_steps, validation_batch_size, validation_freq, max_queue_size, workers, use_multiprocessing)\u001b[0m\n\u001b[1;32m   1096\u001b[0m                 batch_size=batch_size):\n\u001b[1;32m   1097\u001b[0m               \u001b[0mcallbacks\u001b[0m\u001b[0;34m.\u001b[0m\u001b[0mon_train_batch_begin\u001b[0m\u001b[0;34m(\u001b[0m\u001b[0mstep\u001b[0m\u001b[0;34m)\u001b[0m\u001b[0;34m\u001b[0m\u001b[0;34m\u001b[0m\u001b[0m\n\u001b[0;32m-> 1098\u001b[0;31m               \u001b[0mtmp_logs\u001b[0m \u001b[0;34m=\u001b[0m \u001b[0mtrain_function\u001b[0m\u001b[0;34m(\u001b[0m\u001b[0miterator\u001b[0m\u001b[0;34m)\u001b[0m\u001b[0;34m\u001b[0m\u001b[0;34m\u001b[0m\u001b[0m\n\u001b[0m\u001b[1;32m   1099\u001b[0m               \u001b[0;32mif\u001b[0m \u001b[0mdata_handler\u001b[0m\u001b[0;34m.\u001b[0m\u001b[0mshould_sync\u001b[0m\u001b[0;34m:\u001b[0m\u001b[0;34m\u001b[0m\u001b[0;34m\u001b[0m\u001b[0m\n\u001b[1;32m   1100\u001b[0m                 \u001b[0mcontext\u001b[0m\u001b[0;34m.\u001b[0m\u001b[0masync_wait\u001b[0m\u001b[0;34m(\u001b[0m\u001b[0;34m)\u001b[0m\u001b[0;34m\u001b[0m\u001b[0;34m\u001b[0m\u001b[0m\n",
      "\u001b[0;32m~/.local/lib/python3.8/site-packages/tensorflow/python/eager/def_function.py\u001b[0m in \u001b[0;36m__call__\u001b[0;34m(self, *args, **kwds)\u001b[0m\n\u001b[1;32m    778\u001b[0m       \u001b[0;32melse\u001b[0m\u001b[0;34m:\u001b[0m\u001b[0;34m\u001b[0m\u001b[0;34m\u001b[0m\u001b[0m\n\u001b[1;32m    779\u001b[0m         \u001b[0mcompiler\u001b[0m \u001b[0;34m=\u001b[0m \u001b[0;34m\"nonXla\"\u001b[0m\u001b[0;34m\u001b[0m\u001b[0;34m\u001b[0m\u001b[0m\n\u001b[0;32m--> 780\u001b[0;31m         \u001b[0mresult\u001b[0m \u001b[0;34m=\u001b[0m \u001b[0mself\u001b[0m\u001b[0;34m.\u001b[0m\u001b[0m_call\u001b[0m\u001b[0;34m(\u001b[0m\u001b[0;34m*\u001b[0m\u001b[0margs\u001b[0m\u001b[0;34m,\u001b[0m \u001b[0;34m**\u001b[0m\u001b[0mkwds\u001b[0m\u001b[0;34m)\u001b[0m\u001b[0;34m\u001b[0m\u001b[0;34m\u001b[0m\u001b[0m\n\u001b[0m\u001b[1;32m    781\u001b[0m \u001b[0;34m\u001b[0m\u001b[0m\n\u001b[1;32m    782\u001b[0m       \u001b[0mnew_tracing_count\u001b[0m \u001b[0;34m=\u001b[0m \u001b[0mself\u001b[0m\u001b[0;34m.\u001b[0m\u001b[0m_get_tracing_count\u001b[0m\u001b[0;34m(\u001b[0m\u001b[0;34m)\u001b[0m\u001b[0;34m\u001b[0m\u001b[0;34m\u001b[0m\u001b[0m\n",
      "\u001b[0;32m~/.local/lib/python3.8/site-packages/tensorflow/python/eager/def_function.py\u001b[0m in \u001b[0;36m_call\u001b[0;34m(self, *args, **kwds)\u001b[0m\n\u001b[1;32m    805\u001b[0m       \u001b[0;31m# In this case we have created variables on the first call, so we run the\u001b[0m\u001b[0;34m\u001b[0m\u001b[0;34m\u001b[0m\u001b[0;34m\u001b[0m\u001b[0m\n\u001b[1;32m    806\u001b[0m       \u001b[0;31m# defunned version which is guaranteed to never create variables.\u001b[0m\u001b[0;34m\u001b[0m\u001b[0;34m\u001b[0m\u001b[0;34m\u001b[0m\u001b[0m\n\u001b[0;32m--> 807\u001b[0;31m       \u001b[0;32mreturn\u001b[0m \u001b[0mself\u001b[0m\u001b[0;34m.\u001b[0m\u001b[0m_stateless_fn\u001b[0m\u001b[0;34m(\u001b[0m\u001b[0;34m*\u001b[0m\u001b[0margs\u001b[0m\u001b[0;34m,\u001b[0m \u001b[0;34m**\u001b[0m\u001b[0mkwds\u001b[0m\u001b[0;34m)\u001b[0m  \u001b[0;31m# pylint: disable=not-callable\u001b[0m\u001b[0;34m\u001b[0m\u001b[0;34m\u001b[0m\u001b[0m\n\u001b[0m\u001b[1;32m    808\u001b[0m     \u001b[0;32melif\u001b[0m \u001b[0mself\u001b[0m\u001b[0;34m.\u001b[0m\u001b[0m_stateful_fn\u001b[0m \u001b[0;32mis\u001b[0m \u001b[0;32mnot\u001b[0m \u001b[0;32mNone\u001b[0m\u001b[0;34m:\u001b[0m\u001b[0;34m\u001b[0m\u001b[0;34m\u001b[0m\u001b[0m\n\u001b[1;32m    809\u001b[0m       \u001b[0;31m# Release the lock early so that multiple threads can perform the call\u001b[0m\u001b[0;34m\u001b[0m\u001b[0;34m\u001b[0m\u001b[0;34m\u001b[0m\u001b[0m\n",
      "\u001b[0;32m~/.local/lib/python3.8/site-packages/tensorflow/python/eager/function.py\u001b[0m in \u001b[0;36m__call__\u001b[0;34m(self, *args, **kwargs)\u001b[0m\n\u001b[1;32m   2826\u001b[0m     \u001b[0;34m\"\"\"Calls a graph function specialized to the inputs.\"\"\"\u001b[0m\u001b[0;34m\u001b[0m\u001b[0;34m\u001b[0m\u001b[0m\n\u001b[1;32m   2827\u001b[0m     \u001b[0;32mwith\u001b[0m \u001b[0mself\u001b[0m\u001b[0;34m.\u001b[0m\u001b[0m_lock\u001b[0m\u001b[0;34m:\u001b[0m\u001b[0;34m\u001b[0m\u001b[0;34m\u001b[0m\u001b[0m\n\u001b[0;32m-> 2828\u001b[0;31m       \u001b[0mgraph_function\u001b[0m\u001b[0;34m,\u001b[0m \u001b[0margs\u001b[0m\u001b[0;34m,\u001b[0m \u001b[0mkwargs\u001b[0m \u001b[0;34m=\u001b[0m \u001b[0mself\u001b[0m\u001b[0;34m.\u001b[0m\u001b[0m_maybe_define_function\u001b[0m\u001b[0;34m(\u001b[0m\u001b[0margs\u001b[0m\u001b[0;34m,\u001b[0m \u001b[0mkwargs\u001b[0m\u001b[0;34m)\u001b[0m\u001b[0;34m\u001b[0m\u001b[0;34m\u001b[0m\u001b[0m\n\u001b[0m\u001b[1;32m   2829\u001b[0m     \u001b[0;32mreturn\u001b[0m \u001b[0mgraph_function\u001b[0m\u001b[0;34m.\u001b[0m\u001b[0m_filtered_call\u001b[0m\u001b[0;34m(\u001b[0m\u001b[0margs\u001b[0m\u001b[0;34m,\u001b[0m \u001b[0mkwargs\u001b[0m\u001b[0;34m)\u001b[0m  \u001b[0;31m# pylint: disable=protected-access\u001b[0m\u001b[0;34m\u001b[0m\u001b[0;34m\u001b[0m\u001b[0m\n\u001b[1;32m   2830\u001b[0m \u001b[0;34m\u001b[0m\u001b[0m\n",
      "\u001b[0;32m~/.local/lib/python3.8/site-packages/tensorflow/python/eager/function.py\u001b[0m in \u001b[0;36m_maybe_define_function\u001b[0;34m(self, args, kwargs)\u001b[0m\n\u001b[1;32m   3208\u001b[0m           \u001b[0;32mand\u001b[0m \u001b[0mself\u001b[0m\u001b[0;34m.\u001b[0m\u001b[0minput_signature\u001b[0m \u001b[0;32mis\u001b[0m \u001b[0;32mNone\u001b[0m\u001b[0;34m\u001b[0m\u001b[0;34m\u001b[0m\u001b[0m\n\u001b[1;32m   3209\u001b[0m           and call_context_key in self._function_cache.missed):\n\u001b[0;32m-> 3210\u001b[0;31m         \u001b[0;32mreturn\u001b[0m \u001b[0mself\u001b[0m\u001b[0;34m.\u001b[0m\u001b[0m_define_function_with_shape_relaxation\u001b[0m\u001b[0;34m(\u001b[0m\u001b[0margs\u001b[0m\u001b[0;34m,\u001b[0m \u001b[0mkwargs\u001b[0m\u001b[0;34m)\u001b[0m\u001b[0;34m\u001b[0m\u001b[0;34m\u001b[0m\u001b[0m\n\u001b[0m\u001b[1;32m   3211\u001b[0m \u001b[0;34m\u001b[0m\u001b[0m\n\u001b[1;32m   3212\u001b[0m       \u001b[0mself\u001b[0m\u001b[0;34m.\u001b[0m\u001b[0m_function_cache\u001b[0m\u001b[0;34m.\u001b[0m\u001b[0mmissed\u001b[0m\u001b[0;34m.\u001b[0m\u001b[0madd\u001b[0m\u001b[0;34m(\u001b[0m\u001b[0mcall_context_key\u001b[0m\u001b[0;34m)\u001b[0m\u001b[0;34m\u001b[0m\u001b[0;34m\u001b[0m\u001b[0m\n",
      "\u001b[0;32m~/.local/lib/python3.8/site-packages/tensorflow/python/eager/function.py\u001b[0m in \u001b[0;36m_define_function_with_shape_relaxation\u001b[0;34m(self, args, kwargs)\u001b[0m\n\u001b[1;32m   3139\u001b[0m           expand_composites=True)\n\u001b[1;32m   3140\u001b[0m \u001b[0;34m\u001b[0m\u001b[0m\n\u001b[0;32m-> 3141\u001b[0;31m     graph_function = self._create_graph_function(\n\u001b[0m\u001b[1;32m   3142\u001b[0m         args, kwargs, override_flat_arg_shapes=relaxed_arg_shapes)\n\u001b[1;32m   3143\u001b[0m     \u001b[0mself\u001b[0m\u001b[0;34m.\u001b[0m\u001b[0m_function_cache\u001b[0m\u001b[0;34m.\u001b[0m\u001b[0marg_relaxed\u001b[0m\u001b[0;34m[\u001b[0m\u001b[0mrank_only_cache_key\u001b[0m\u001b[0;34m]\u001b[0m \u001b[0;34m=\u001b[0m \u001b[0mgraph_function\u001b[0m\u001b[0;34m\u001b[0m\u001b[0;34m\u001b[0m\u001b[0m\n",
      "\u001b[0;32m~/.local/lib/python3.8/site-packages/tensorflow/python/eager/function.py\u001b[0m in \u001b[0;36m_create_graph_function\u001b[0;34m(self, args, kwargs, override_flat_arg_shapes)\u001b[0m\n\u001b[1;32m   3063\u001b[0m     \u001b[0marg_names\u001b[0m \u001b[0;34m=\u001b[0m \u001b[0mbase_arg_names\u001b[0m \u001b[0;34m+\u001b[0m \u001b[0mmissing_arg_names\u001b[0m\u001b[0;34m\u001b[0m\u001b[0;34m\u001b[0m\u001b[0m\n\u001b[1;32m   3064\u001b[0m     graph_function = ConcreteFunction(\n\u001b[0;32m-> 3065\u001b[0;31m         func_graph_module.func_graph_from_py_func(\n\u001b[0m\u001b[1;32m   3066\u001b[0m             \u001b[0mself\u001b[0m\u001b[0;34m.\u001b[0m\u001b[0m_name\u001b[0m\u001b[0;34m,\u001b[0m\u001b[0;34m\u001b[0m\u001b[0;34m\u001b[0m\u001b[0m\n\u001b[1;32m   3067\u001b[0m             \u001b[0mself\u001b[0m\u001b[0;34m.\u001b[0m\u001b[0m_python_function\u001b[0m\u001b[0;34m,\u001b[0m\u001b[0;34m\u001b[0m\u001b[0;34m\u001b[0m\u001b[0m\n",
      "\u001b[0;32m~/.local/lib/python3.8/site-packages/tensorflow/python/framework/func_graph.py\u001b[0m in \u001b[0;36mfunc_graph_from_py_func\u001b[0;34m(name, python_func, args, kwargs, signature, func_graph, autograph, autograph_options, add_control_dependencies, arg_names, op_return_value, collections, capture_by_value, override_flat_arg_shapes)\u001b[0m\n\u001b[1;32m    984\u001b[0m         \u001b[0m_\u001b[0m\u001b[0;34m,\u001b[0m \u001b[0moriginal_func\u001b[0m \u001b[0;34m=\u001b[0m \u001b[0mtf_decorator\u001b[0m\u001b[0;34m.\u001b[0m\u001b[0munwrap\u001b[0m\u001b[0;34m(\u001b[0m\u001b[0mpython_func\u001b[0m\u001b[0;34m)\u001b[0m\u001b[0;34m\u001b[0m\u001b[0;34m\u001b[0m\u001b[0m\n\u001b[1;32m    985\u001b[0m \u001b[0;34m\u001b[0m\u001b[0m\n\u001b[0;32m--> 986\u001b[0;31m       \u001b[0mfunc_outputs\u001b[0m \u001b[0;34m=\u001b[0m \u001b[0mpython_func\u001b[0m\u001b[0;34m(\u001b[0m\u001b[0;34m*\u001b[0m\u001b[0mfunc_args\u001b[0m\u001b[0;34m,\u001b[0m \u001b[0;34m**\u001b[0m\u001b[0mfunc_kwargs\u001b[0m\u001b[0;34m)\u001b[0m\u001b[0;34m\u001b[0m\u001b[0;34m\u001b[0m\u001b[0m\n\u001b[0m\u001b[1;32m    987\u001b[0m \u001b[0;34m\u001b[0m\u001b[0m\n\u001b[1;32m    988\u001b[0m       \u001b[0;31m# invariant: `func_outputs` contains only Tensors, CompositeTensors,\u001b[0m\u001b[0;34m\u001b[0m\u001b[0;34m\u001b[0m\u001b[0;34m\u001b[0m\u001b[0m\n",
      "\u001b[0;32m~/.local/lib/python3.8/site-packages/tensorflow/python/eager/def_function.py\u001b[0m in \u001b[0;36mwrapped_fn\u001b[0;34m(*args, **kwds)\u001b[0m\n\u001b[1;32m    598\u001b[0m         \u001b[0;31m# __wrapped__ allows AutoGraph to swap in a converted function. We give\u001b[0m\u001b[0;34m\u001b[0m\u001b[0;34m\u001b[0m\u001b[0;34m\u001b[0m\u001b[0m\n\u001b[1;32m    599\u001b[0m         \u001b[0;31m# the function a weak reference to itself to avoid a reference cycle.\u001b[0m\u001b[0;34m\u001b[0m\u001b[0;34m\u001b[0m\u001b[0;34m\u001b[0m\u001b[0m\n\u001b[0;32m--> 600\u001b[0;31m         \u001b[0;32mreturn\u001b[0m \u001b[0mweak_wrapped_fn\u001b[0m\u001b[0;34m(\u001b[0m\u001b[0;34m)\u001b[0m\u001b[0;34m.\u001b[0m\u001b[0m__wrapped__\u001b[0m\u001b[0;34m(\u001b[0m\u001b[0;34m*\u001b[0m\u001b[0margs\u001b[0m\u001b[0;34m,\u001b[0m \u001b[0;34m**\u001b[0m\u001b[0mkwds\u001b[0m\u001b[0;34m)\u001b[0m\u001b[0;34m\u001b[0m\u001b[0;34m\u001b[0m\u001b[0m\n\u001b[0m\u001b[1;32m    601\u001b[0m     \u001b[0mweak_wrapped_fn\u001b[0m \u001b[0;34m=\u001b[0m \u001b[0mweakref\u001b[0m\u001b[0;34m.\u001b[0m\u001b[0mref\u001b[0m\u001b[0;34m(\u001b[0m\u001b[0mwrapped_fn\u001b[0m\u001b[0;34m)\u001b[0m\u001b[0;34m\u001b[0m\u001b[0;34m\u001b[0m\u001b[0m\n\u001b[1;32m    602\u001b[0m \u001b[0;34m\u001b[0m\u001b[0m\n",
      "\u001b[0;32m~/.local/lib/python3.8/site-packages/tensorflow/python/framework/func_graph.py\u001b[0m in \u001b[0;36mwrapper\u001b[0;34m(*args, **kwargs)\u001b[0m\n\u001b[1;32m    971\u001b[0m           \u001b[0;32mexcept\u001b[0m \u001b[0mException\u001b[0m \u001b[0;32mas\u001b[0m \u001b[0me\u001b[0m\u001b[0;34m:\u001b[0m  \u001b[0;31m# pylint:disable=broad-except\u001b[0m\u001b[0;34m\u001b[0m\u001b[0;34m\u001b[0m\u001b[0m\n\u001b[1;32m    972\u001b[0m             \u001b[0;32mif\u001b[0m \u001b[0mhasattr\u001b[0m\u001b[0;34m(\u001b[0m\u001b[0me\u001b[0m\u001b[0;34m,\u001b[0m \u001b[0;34m\"ag_error_metadata\"\u001b[0m\u001b[0;34m)\u001b[0m\u001b[0;34m:\u001b[0m\u001b[0;34m\u001b[0m\u001b[0;34m\u001b[0m\u001b[0m\n\u001b[0;32m--> 973\u001b[0;31m               \u001b[0;32mraise\u001b[0m \u001b[0me\u001b[0m\u001b[0;34m.\u001b[0m\u001b[0mag_error_metadata\u001b[0m\u001b[0;34m.\u001b[0m\u001b[0mto_exception\u001b[0m\u001b[0;34m(\u001b[0m\u001b[0me\u001b[0m\u001b[0;34m)\u001b[0m\u001b[0;34m\u001b[0m\u001b[0;34m\u001b[0m\u001b[0m\n\u001b[0m\u001b[1;32m    974\u001b[0m             \u001b[0;32melse\u001b[0m\u001b[0;34m:\u001b[0m\u001b[0;34m\u001b[0m\u001b[0;34m\u001b[0m\u001b[0m\n\u001b[1;32m    975\u001b[0m               \u001b[0;32mraise\u001b[0m\u001b[0;34m\u001b[0m\u001b[0;34m\u001b[0m\u001b[0m\n",
      "\u001b[0;31mAssertionError\u001b[0m: in user code:\n\n    /home/pkomiske/.local/lib/python3.8/site-packages/tensorflow/python/keras/engine/training.py:806 train_function  *\n        return step_function(self, iterator)\n    /home/pkomiske/.local/lib/python3.8/site-packages/tensorflow/python/keras/engine/training.py:796 step_function  **\n        outputs = model.distribute_strategy.run(run_step, args=(data,))\n    /home/pkomiske/.local/lib/python3.8/site-packages/tensorflow/python/distribute/distribute_lib.py:1211 run\n        return self._extended.call_for_each_replica(fn, args=args, kwargs=kwargs)\n    /home/pkomiske/.local/lib/python3.8/site-packages/tensorflow/python/distribute/distribute_lib.py:2585 call_for_each_replica\n        return self._call_for_each_replica(fn, args, kwargs)\n    /home/pkomiske/.local/lib/python3.8/site-packages/tensorflow/python/distribute/distribute_lib.py:2945 _call_for_each_replica\n        return fn(*args, **kwargs)\n    /home/pkomiske/.local/lib/python3.8/site-packages/tensorflow/python/keras/engine/training.py:789 run_step  **\n        outputs = model.train_step(data)\n    /home/pkomiske/.local/lib/python3.8/site-packages/tensorflow/python/keras/engine/training.py:747 train_step\n        y_pred = self(x, training=True)\n    /home/pkomiske/.local/lib/python3.8/site-packages/tensorflow/python/keras/engine/base_layer.py:985 __call__\n        outputs = call_fn(inputs, *args, **kwargs)\n    /home/pkomiske/.local/lib/python3.8/site-packages/tensorflow/python/keras/engine/functional.py:385 call\n        return self._run_internal_graph(\n    /home/pkomiske/.local/lib/python3.8/site-packages/tensorflow/python/keras/engine/functional.py:517 _run_internal_graph\n        assert x_id in tensor_dict, 'Could not compute output ' + str(x)\n\n    AssertionError: Could not compute output Tensor(\"activation_6/Softmax:0\", shape=(None, 2), dtype=float32)\n"
     ]
    }
   ],
   "source": [
    "efn.fit(d_train.padded_batch(100), epochs=2, steps_per_epoch=None)"
   ]
  },
  {
   "cell_type": "code",
   "execution_count": null,
   "metadata": {},
   "outputs": [],
   "source": []
  },
  {
   "cell_type": "code",
   "execution_count": 17,
   "metadata": {},
   "outputs": [
    {
     "name": "stdout",
     "output_type": "stream",
     "text": [
      "(5, 75)\n",
      "(5, 62)\n",
      "(5, 79)\n",
      "(5, 71)\n",
      "(5, 83)\n"
     ]
    }
   ],
   "source": [
    "for x in d_z_train.padded_batch(5).take(5).as_numpy_iterator():\n",
    "    print(x.shape)"
   ]
  },
  {
   "cell_type": "code",
   "execution_count": 8,
   "metadata": {},
   "outputs": [
    {
     "data": {
      "text/plain": [
       "[array([[-0.3004548 ,  0.18000665],\n",
       "        [ 0.25595946,  0.21914275],\n",
       "        [ 0.19012931, -0.27834758],\n",
       "        [ 0.22757659,  0.23368613],\n",
       "        [ 0.25591214,  0.1861676 ],\n",
       "        [ 0.27219489,  0.06283828],\n",
       "        [ 0.21943663,  0.03113066],\n",
       "        [ 0.17531635,  0.04260233],\n",
       "        [ 0.0648605 ,  0.15472177],\n",
       "        [-0.06192421,  0.14590517],\n",
       "        [-0.15585459, -0.00907615],\n",
       "        [-0.1395952 , -0.06344516],\n",
       "        [ 0.11944982, -0.06689146],\n",
       "        [-0.05746589,  0.0937828 ],\n",
       "        [ 0.02805894,  0.10240761],\n",
       "        [-0.05741437, -0.10040385],\n",
       "        [-0.09678105,  0.04224598],\n",
       "        [-0.01384912,  0.07198374],\n",
       "        [-0.0132647 , -0.07073488],\n",
       "        [ 0.02660296,  0.04084296],\n",
       "        [-0.0360684 ,  0.0348671 ],\n",
       "        [ 0.04377095,  0.01773009],\n",
       "        [ 0.03054393, -0.0431101 ],\n",
       "        [ 0.01464761, -0.05085827],\n",
       "        [-0.04123637, -0.02153384],\n",
       "        [-0.01931104, -0.03783215],\n",
       "        [ 0.02740436,  0.01964118],\n",
       "        [-0.02657702,  0.00941003],\n",
       "        [-0.02238543,  0.00551315],\n",
       "        [-0.02088163, -0.01584549],\n",
       "        [ 0.00462502,  0.01450844],\n",
       "        [-0.01915898, -0.0082574 ],\n",
       "        [ 0.01381342, -0.01919539],\n",
       "        [ 0.01734253, -0.00823309],\n",
       "        [-0.00486367,  0.0046577 ],\n",
       "        [ 0.00925295, -0.01218263],\n",
       "        [-0.00212022, -0.01242326],\n",
       "        [-0.00453366, -0.00626735],\n",
       "        [-0.00268249, -0.0032965 ],\n",
       "        [ 0.00086321, -0.00515186],\n",
       "        [ 0.00383483, -0.00407979]]),\n",
       " array([[ 3.09345455e-01,  2.10203361e-01],\n",
       "        [ 2.49034222e-01,  1.46549821e-01],\n",
       "        [ 2.00925701e-01,  1.66412487e-01],\n",
       "        [ 2.54633872e-01, -2.95183645e-02],\n",
       "        [ 2.32055494e-01, -9.40625410e-02],\n",
       "        [ 1.95338923e-01, -1.32809065e-01],\n",
       "        [-2.47062764e-01,  1.67708294e-01],\n",
       "        [ 1.98410833e-01,  1.21396652e-01],\n",
       "        [ 1.85678585e-01, -4.18507647e-02],\n",
       "        [-9.05844719e-02, -2.03108215e-01],\n",
       "        [-4.62592426e-02,  2.40652491e-01],\n",
       "        [-2.36156713e-01, -7.52568651e-02],\n",
       "        [ 1.05827971e-01, -1.50109654e-01],\n",
       "        [ 1.46034994e-01,  1.36303529e-01],\n",
       "        [ 9.31295112e-02, -1.23656507e-01],\n",
       "        [ 1.24499504e-01,  1.02425172e-01],\n",
       "        [ 1.33188274e-01,  4.33047534e-02],\n",
       "        [ 8.66508307e-02,  1.27352933e-01],\n",
       "        [ 6.59999780e-02,  1.41265009e-01],\n",
       "        [-9.55063884e-02,  1.70964248e-01],\n",
       "        [ 9.08780488e-02,  1.09446460e-01],\n",
       "        [ 5.54476767e-02,  1.39404080e-01],\n",
       "        [ 5.46212904e-02,  1.40988762e-01],\n",
       "        [ 7.16788532e-02,  1.24969593e-01],\n",
       "        [ 6.55086324e-02,  1.19568666e-01],\n",
       "        [ 7.54278217e-02,  1.06450680e-01],\n",
       "        [ 6.49403762e-02,  1.10479752e-01],\n",
       "        [ 8.13180511e-02,  6.62748302e-02],\n",
       "        [-1.45068104e-02,  1.44668445e-01],\n",
       "        [-1.99351066e-01,  4.92725216e-02],\n",
       "        [-9.92491756e-02,  1.35414014e-01],\n",
       "        [ 5.12906296e-02,  8.98346985e-02],\n",
       "        [-1.75007219e-01,  4.32112218e-02],\n",
       "        [-1.69705771e-01,  3.78116209e-02],\n",
       "        [ 2.23281091e-02,  1.02004723e-01],\n",
       "        [-1.02175446e-01,  1.07812935e-01],\n",
       "        [-1.30625165e-01,  8.69765937e-02],\n",
       "        [ 1.20634919e-02,  1.00574580e-01],\n",
       "        [ 4.01262463e-02,  8.12390685e-02],\n",
       "        [ 7.13567104e-02,  3.47795990e-02],\n",
       "        [ 6.05531810e-02,  4.80442546e-02],\n",
       "        [-1.40878675e-01,  5.79921013e-02],\n",
       "        [-1.47714886e-01,  1.75265979e-02],\n",
       "        [-9.80217802e-02,  6.09914832e-02],\n",
       "        [-1.00295501e-01,  5.42381729e-02],\n",
       "        [-1.00011371e-01,  4.53780347e-02],\n",
       "        [-1.23859046e-01,  1.38097274e-02],\n",
       "        [-1.26729924e-01, -2.97640040e-02],\n",
       "        [-1.18451257e-01,  2.96843070e-03],\n",
       "        [-6.52550447e-02,  5.57107506e-02],\n",
       "        [-1.13293180e-01, -6.32359428e-02],\n",
       "        [-9.58216793e-02,  1.88522735e-02],\n",
       "        [-1.02988770e-01,  1.80176948e-02],\n",
       "        [-7.95594035e-02,  3.02039200e-02],\n",
       "        [-6.94963241e-02,  3.32227396e-02],\n",
       "        [-9.11187943e-02, -7.35222565e-02],\n",
       "        [-5.35389194e-02, -1.12070410e-01],\n",
       "        [-8.81300041e-02, -1.91037412e-02],\n",
       "        [-7.85525259e-02, -2.53832793e-04],\n",
       "        [ 5.07743234e-02, -6.21189293e-02],\n",
       "        [ 1.76893926e-02, -1.00395493e-01],\n",
       "        [ 1.29649184e-02, -9.72549253e-02],\n",
       "        [-1.35623225e-02, -9.90805239e-02],\n",
       "        [-2.31402069e-02, -9.66161309e-02],\n",
       "        [ 3.12792256e-02, -3.94055012e-03],\n",
       "        [-5.01523626e-02, -7.14301012e-02],\n",
       "        [-8.99403914e-03, -7.81968716e-02],\n",
       "        [-4.94837673e-02, -5.17790577e-02],\n",
       "        [-2.82095189e-02, -6.95379998e-02],\n",
       "        [ 2.08692550e-02, -3.70788467e-02],\n",
       "        [-3.64865142e-02, -5.01871768e-02],\n",
       "        [-1.63854976e-02, -5.31696160e-02],\n",
       "        [-1.80527622e-02, -2.57610695e-02],\n",
       "        [-3.14814161e-03, -5.48300725e-02],\n",
       "        [-1.86302978e-03, -4.61014931e-02]])]"
      ]
     },
     "execution_count": 8,
     "metadata": {},
     "output_type": "execute_result"
    }
   ],
   "source": [
    "list(d_p_train.take(2).as_numpy_iterator())"
   ]
  },
  {
   "cell_type": "code",
   "execution_count": null,
   "metadata": {},
   "outputs": [],
   "source": []
  },
  {
   "cell_type": "code",
   "execution_count": 26,
   "metadata": {},
   "outputs": [
    {
     "ename": "InvalidArgumentError",
     "evalue": "TypeError: `generator` yielded an element that could not be converted to the expected type. The expected type was float64, but the yielded element was (array([1.55805992e-04, 3.09940222e-03, 2.75630667e-03, 4.18105241e-03,\n       4.42553043e-03, 4.73962813e-04, 1.34788840e-03, 3.97825052e-03,\n       2.06414032e-03, 2.07097368e-03, 2.80241157e-03, 3.07364337e-03,\n       4.16936673e-03, 1.02444531e-03, 8.10773558e-04, 2.94415682e-03,\n       7.33718182e-03, 3.41485663e-03, 8.88909015e-03, 7.57798702e-03,\n       2.77567553e-03, 2.91540280e-04, 6.23680858e-03, 2.55978176e-03,\n       5.24034575e-03, 1.77698967e-02, 4.04757623e-03, 3.88675621e-03,\n       5.24140409e-03, 4.44374262e-03, 1.06204548e-03, 3.41156341e-03,\n       2.04517878e-02, 5.03235004e-03, 2.91949302e-02, 3.17085406e-02,\n       7.72992607e-03, 2.37704276e-02, 1.23474694e-02, 1.33794326e-02,\n       1.52389228e-02, 9.09262197e-03, 1.05772026e-01, 2.71705960e-02,\n       1.43403527e-01, 9.04701766e-02, 3.05911814e-02, 9.49185106e-02,\n       2.16163211e-01]), array([[ 0.19248437,  0.3461863 ],\n       [ 0.3675758 , -0.06018309],\n       [ 0.36051839, -0.01365127],\n       [ 0.30113706,  0.12930311],\n       [-0.29814711,  0.09671627],\n       [-0.27293419,  0.13015404],\n       [ 0.23699159,  0.1721216 ],\n       [ 0.27727496, -0.09054323],\n       [-0.17247736,  0.20063009],\n       [-0.18975678,  0.16961485],\n       [-0.00741954,  0.25014938],\n       [ 0.16423588, -0.18005299],\n       [ 0.06607018,  0.22524107],\n       [ 0.22043351,  0.05049798],\n       [-0.00959724,  0.19835357],\n       [ 0.15573233, -0.09224549],\n       [-0.02294287,  0.16881301],\n       [ 0.02671373,  0.16311659],\n       [ 0.14900243, -0.06982081],\n       [ 0.10357708,  0.09952685],\n       [-0.14028639,  0.05056917],\n       [-0.14554286, -0.00410983],\n       [-0.04781289, -0.13076487],\n       [-0.08040988, -0.10946832],\n       [-0.12316611, -0.01686442],\n       [ 0.07692814,  0.06958431],\n       [-0.02891244,  0.09970079],\n       [ 0.00361535, -0.10636913],\n       [-0.04665436,  0.07503408],\n       [ 0.03465284,  0.07053366],\n       [ 0.01344654,  0.07470778],\n       [ 0.06469194, -0.0157268 ],\n       [ 0.00185343,  0.05993081],\n       [ 0.01215789, -0.06001301],\n       [ 0.04500963, -0.01911479],\n       [ 0.0387456 , -0.02518022],\n       [-0.01419446, -0.05757466],\n       [-0.02318235, -0.05526764],\n       [-0.03892598,  0.02871542],\n       [ 0.03000704, -0.0042287 ],\n       [ 0.006802  ,  0.02714326],\n       [-0.01573388,  0.02691451],\n       [ 0.00312822,  0.01690549],\n       [-0.0174402 ,  0.00246172],\n       [-0.01135729, -0.0042963 ],\n       [-0.00780601, -0.01465968],\n       [-0.01134854, -0.01452791],\n       [-0.01472366, -0.01167076],\n       [-0.01657076, -0.01153503]])).\nTraceback (most recent call last):\n\n  File \"/home/pkomiske/.local/lib/python3.8/site-packages/tensorflow/python/data/ops/dataset_ops.py\", line 842, in generator_py_func\n    ret_arrays.append(script_ops.FuncRegistry._convert(  # pylint: disable=protected-access\n\n  File \"/home/pkomiske/.local/lib/python3.8/site-packages/tensorflow/python/ops/script_ops.py\", line 204, in _convert\n    result = np.asarray(value, dtype=dtype, order=\"C\")\n\n  File \"/home/pkomiske/.local/lib/python3.8/site-packages/numpy/core/_asarray.py\", line 83, in asarray\n    return array(a, dtype, copy=False, order=order)\n\nValueError: could not broadcast input array from shape (49,2) into shape (49)\n\n\nDuring handling of the above exception, another exception occurred:\n\n\nTraceback (most recent call last):\n\n  File \"/home/pkomiske/.local/lib/python3.8/site-packages/tensorflow/python/ops/script_ops.py\", line 244, in __call__\n    ret = func(*args)\n\n  File \"/home/pkomiske/.local/lib/python3.8/site-packages/tensorflow/python/autograph/impl/api.py\", line 302, in wrapper\n    return func(*args, **kwargs)\n\n  File \"/home/pkomiske/.local/lib/python3.8/site-packages/tensorflow/python/data/ops/dataset_ops.py\", line 845, in generator_py_func\n    six.reraise(TypeError, TypeError(\n\n  File \"/usr/lib/python3/dist-packages/six.py\", line 702, in reraise\n    raise value.with_traceback(tb)\n\n  File \"/home/pkomiske/.local/lib/python3.8/site-packages/tensorflow/python/data/ops/dataset_ops.py\", line 842, in generator_py_func\n    ret_arrays.append(script_ops.FuncRegistry._convert(  # pylint: disable=protected-access\n\n  File \"/home/pkomiske/.local/lib/python3.8/site-packages/tensorflow/python/ops/script_ops.py\", line 204, in _convert\n    result = np.asarray(value, dtype=dtype, order=\"C\")\n\n  File \"/home/pkomiske/.local/lib/python3.8/site-packages/numpy/core/_asarray.py\", line 83, in asarray\n    return array(a, dtype, copy=False, order=order)\n\nTypeError: `generator` yielded an element that could not be converted to the expected type. The expected type was float64, but the yielded element was (array([1.55805992e-04, 3.09940222e-03, 2.75630667e-03, 4.18105241e-03,\n       4.42553043e-03, 4.73962813e-04, 1.34788840e-03, 3.97825052e-03,\n       2.06414032e-03, 2.07097368e-03, 2.80241157e-03, 3.07364337e-03,\n       4.16936673e-03, 1.02444531e-03, 8.10773558e-04, 2.94415682e-03,\n       7.33718182e-03, 3.41485663e-03, 8.88909015e-03, 7.57798702e-03,\n       2.77567553e-03, 2.91540280e-04, 6.23680858e-03, 2.55978176e-03,\n       5.24034575e-03, 1.77698967e-02, 4.04757623e-03, 3.88675621e-03,\n       5.24140409e-03, 4.44374262e-03, 1.06204548e-03, 3.41156341e-03,\n       2.04517878e-02, 5.03235004e-03, 2.91949302e-02, 3.17085406e-02,\n       7.72992607e-03, 2.37704276e-02, 1.23474694e-02, 1.33794326e-02,\n       1.52389228e-02, 9.09262197e-03, 1.05772026e-01, 2.71705960e-02,\n       1.43403527e-01, 9.04701766e-02, 3.05911814e-02, 9.49185106e-02,\n       2.16163211e-01]), array([[ 0.19248437,  0.3461863 ],\n       [ 0.3675758 , -0.06018309],\n       [ 0.36051839, -0.01365127],\n       [ 0.30113706,  0.12930311],\n       [-0.29814711,  0.09671627],\n       [-0.27293419,  0.13015404],\n       [ 0.23699159,  0.1721216 ],\n       [ 0.27727496, -0.09054323],\n       [-0.17247736,  0.20063009],\n       [-0.18975678,  0.16961485],\n       [-0.00741954,  0.25014938],\n       [ 0.16423588, -0.18005299],\n       [ 0.06607018,  0.22524107],\n       [ 0.22043351,  0.05049798],\n       [-0.00959724,  0.19835357],\n       [ 0.15573233, -0.09224549],\n       [-0.02294287,  0.16881301],\n       [ 0.02671373,  0.16311659],\n       [ 0.14900243, -0.06982081],\n       [ 0.10357708,  0.09952685],\n       [-0.14028639,  0.05056917],\n       [-0.14554286, -0.00410983],\n       [-0.04781289, -0.13076487],\n       [-0.08040988, -0.10946832],\n       [-0.12316611, -0.01686442],\n       [ 0.07692814,  0.06958431],\n       [-0.02891244,  0.09970079],\n       [ 0.00361535, -0.10636913],\n       [-0.04665436,  0.07503408],\n       [ 0.03465284,  0.07053366],\n       [ 0.01344654,  0.07470778],\n       [ 0.06469194, -0.0157268 ],\n       [ 0.00185343,  0.05993081],\n       [ 0.01215789, -0.06001301],\n       [ 0.04500963, -0.01911479],\n       [ 0.0387456 , -0.02518022],\n       [-0.01419446, -0.05757466],\n       [-0.02318235, -0.05526764],\n       [-0.03892598,  0.02871542],\n       [ 0.03000704, -0.0042287 ],\n       [ 0.006802  ,  0.02714326],\n       [-0.01573388,  0.02691451],\n       [ 0.00312822,  0.01690549],\n       [-0.0174402 ,  0.00246172],\n       [-0.01135729, -0.0042963 ],\n       [-0.00780601, -0.01465968],\n       [-0.01134854, -0.01452791],\n       [-0.01472366, -0.01167076],\n       [-0.01657076, -0.01153503]])).\n\n\n\t [[{{node PyFunc}}]]",
     "output_type": "error",
     "traceback": [
      "\u001b[0;31m---------------------------------------------------------------------------\u001b[0m",
      "\u001b[0;31mInvalidArgumentError\u001b[0m                      Traceback (most recent call last)",
      "\u001b[0;32m~/.local/lib/python3.8/site-packages/tensorflow/python/eager/context.py\u001b[0m in \u001b[0;36mexecution_mode\u001b[0;34m(mode)\u001b[0m\n\u001b[1;32m   2101\u001b[0m       \u001b[0mctx\u001b[0m\u001b[0;34m.\u001b[0m\u001b[0mexecutor\u001b[0m \u001b[0;34m=\u001b[0m \u001b[0mexecutor_new\u001b[0m\u001b[0;34m\u001b[0m\u001b[0;34m\u001b[0m\u001b[0m\n\u001b[0;32m-> 2102\u001b[0;31m       \u001b[0;32myield\u001b[0m\u001b[0;34m\u001b[0m\u001b[0;34m\u001b[0m\u001b[0m\n\u001b[0m\u001b[1;32m   2103\u001b[0m     \u001b[0;32mfinally\u001b[0m\u001b[0;34m:\u001b[0m\u001b[0;34m\u001b[0m\u001b[0;34m\u001b[0m\u001b[0m\n",
      "\u001b[0;32m~/.local/lib/python3.8/site-packages/tensorflow/python/data/ops/iterator_ops.py\u001b[0m in \u001b[0;36m_next_internal\u001b[0;34m(self)\u001b[0m\n\u001b[1;32m    754\u001b[0m         \u001b[0;31m# handles execute on the same device as where the resource is placed.\u001b[0m\u001b[0;34m\u001b[0m\u001b[0;34m\u001b[0m\u001b[0;34m\u001b[0m\u001b[0m\n\u001b[0;32m--> 755\u001b[0;31m         ret = gen_dataset_ops.iterator_get_next(\n\u001b[0m\u001b[1;32m    756\u001b[0m             \u001b[0mself\u001b[0m\u001b[0;34m.\u001b[0m\u001b[0m_iterator_resource\u001b[0m\u001b[0;34m,\u001b[0m\u001b[0;34m\u001b[0m\u001b[0;34m\u001b[0m\u001b[0m\n",
      "\u001b[0;32m~/.local/lib/python3.8/site-packages/tensorflow/python/ops/gen_dataset_ops.py\u001b[0m in \u001b[0;36miterator_get_next\u001b[0;34m(iterator, output_types, output_shapes, name)\u001b[0m\n\u001b[1;32m   2609\u001b[0m     \u001b[0;32mexcept\u001b[0m \u001b[0m_core\u001b[0m\u001b[0;34m.\u001b[0m\u001b[0m_NotOkStatusException\u001b[0m \u001b[0;32mas\u001b[0m \u001b[0me\u001b[0m\u001b[0;34m:\u001b[0m\u001b[0;34m\u001b[0m\u001b[0;34m\u001b[0m\u001b[0m\n\u001b[0;32m-> 2610\u001b[0;31m       \u001b[0m_ops\u001b[0m\u001b[0;34m.\u001b[0m\u001b[0mraise_from_not_ok_status\u001b[0m\u001b[0;34m(\u001b[0m\u001b[0me\u001b[0m\u001b[0;34m,\u001b[0m \u001b[0mname\u001b[0m\u001b[0;34m)\u001b[0m\u001b[0;34m\u001b[0m\u001b[0;34m\u001b[0m\u001b[0m\n\u001b[0m\u001b[1;32m   2611\u001b[0m     \u001b[0;32mexcept\u001b[0m \u001b[0m_core\u001b[0m\u001b[0;34m.\u001b[0m\u001b[0m_FallbackException\u001b[0m\u001b[0;34m:\u001b[0m\u001b[0;34m\u001b[0m\u001b[0;34m\u001b[0m\u001b[0m\n",
      "\u001b[0;32m~/.local/lib/python3.8/site-packages/tensorflow/python/framework/ops.py\u001b[0m in \u001b[0;36mraise_from_not_ok_status\u001b[0;34m(e, name)\u001b[0m\n\u001b[1;32m   6842\u001b[0m   \u001b[0;31m# pylint: disable=protected-access\u001b[0m\u001b[0;34m\u001b[0m\u001b[0;34m\u001b[0m\u001b[0;34m\u001b[0m\u001b[0m\n\u001b[0;32m-> 6843\u001b[0;31m   \u001b[0msix\u001b[0m\u001b[0;34m.\u001b[0m\u001b[0mraise_from\u001b[0m\u001b[0;34m(\u001b[0m\u001b[0mcore\u001b[0m\u001b[0;34m.\u001b[0m\u001b[0m_status_to_exception\u001b[0m\u001b[0;34m(\u001b[0m\u001b[0me\u001b[0m\u001b[0;34m.\u001b[0m\u001b[0mcode\u001b[0m\u001b[0;34m,\u001b[0m \u001b[0mmessage\u001b[0m\u001b[0;34m)\u001b[0m\u001b[0;34m,\u001b[0m \u001b[0;32mNone\u001b[0m\u001b[0;34m)\u001b[0m\u001b[0;34m\u001b[0m\u001b[0;34m\u001b[0m\u001b[0m\n\u001b[0m\u001b[1;32m   6844\u001b[0m   \u001b[0;31m# pylint: enable=protected-access\u001b[0m\u001b[0;34m\u001b[0m\u001b[0;34m\u001b[0m\u001b[0;34m\u001b[0m\u001b[0m\n",
      "\u001b[0;32m/usr/lib/python3/dist-packages/six.py\u001b[0m in \u001b[0;36mraise_from\u001b[0;34m(value, from_value)\u001b[0m\n",
      "\u001b[0;31mInvalidArgumentError\u001b[0m: TypeError: `generator` yielded an element that could not be converted to the expected type. The expected type was float64, but the yielded element was (array([1.55805992e-04, 3.09940222e-03, 2.75630667e-03, 4.18105241e-03,\n       4.42553043e-03, 4.73962813e-04, 1.34788840e-03, 3.97825052e-03,\n       2.06414032e-03, 2.07097368e-03, 2.80241157e-03, 3.07364337e-03,\n       4.16936673e-03, 1.02444531e-03, 8.10773558e-04, 2.94415682e-03,\n       7.33718182e-03, 3.41485663e-03, 8.88909015e-03, 7.57798702e-03,\n       2.77567553e-03, 2.91540280e-04, 6.23680858e-03, 2.55978176e-03,\n       5.24034575e-03, 1.77698967e-02, 4.04757623e-03, 3.88675621e-03,\n       5.24140409e-03, 4.44374262e-03, 1.06204548e-03, 3.41156341e-03,\n       2.04517878e-02, 5.03235004e-03, 2.91949302e-02, 3.17085406e-02,\n       7.72992607e-03, 2.37704276e-02, 1.23474694e-02, 1.33794326e-02,\n       1.52389228e-02, 9.09262197e-03, 1.05772026e-01, 2.71705960e-02,\n       1.43403527e-01, 9.04701766e-02, 3.05911814e-02, 9.49185106e-02,\n       2.16163211e-01]), array([[ 0.19248437,  0.3461863 ],\n       [ 0.3675758 , -0.06018309],\n       [ 0.36051839, -0.01365127],\n       [ 0.30113706,  0.12930311],\n       [-0.29814711,  0.09671627],\n       [-0.27293419,  0.13015404],\n       [ 0.23699159,  0.1721216 ],\n       [ 0.27727496, -0.09054323],\n       [-0.17247736,  0.20063009],\n       [-0.18975678,  0.16961485],\n       [-0.00741954,  0.25014938],\n       [ 0.16423588, -0.18005299],\n       [ 0.06607018,  0.22524107],\n       [ 0.22043351,  0.05049798],\n       [-0.00959724,  0.19835357],\n       [ 0.15573233, -0.09224549],\n       [-0.02294287,  0.16881301],\n       [ 0.02671373,  0.16311659],\n       [ 0.14900243, -0.06982081],\n       [ 0.10357708,  0.09952685],\n       [-0.14028639,  0.05056917],\n       [-0.14554286, -0.00410983],\n       [-0.04781289, -0.13076487],\n       [-0.08040988, -0.10946832],\n       [-0.12316611, -0.01686442],\n       [ 0.07692814,  0.06958431],\n       [-0.02891244,  0.09970079],\n       [ 0.00361535, -0.10636913],\n       [-0.04665436,  0.07503408],\n       [ 0.03465284,  0.07053366],\n       [ 0.01344654,  0.07470778],\n       [ 0.06469194, -0.0157268 ],\n       [ 0.00185343,  0.05993081],\n       [ 0.01215789, -0.06001301],\n       [ 0.04500963, -0.01911479],\n       [ 0.0387456 , -0.02518022],\n       [-0.01419446, -0.05757466],\n       [-0.02318235, -0.05526764],\n       [-0.03892598,  0.02871542],\n       [ 0.03000704, -0.0042287 ],\n       [ 0.006802  ,  0.02714326],\n       [-0.01573388,  0.02691451],\n       [ 0.00312822,  0.01690549],\n       [-0.0174402 ,  0.00246172],\n       [-0.01135729, -0.0042963 ],\n       [-0.00780601, -0.01465968],\n       [-0.01134854, -0.01452791],\n       [-0.01472366, -0.01167076],\n       [-0.01657076, -0.01153503]])).\nTraceback (most recent call last):\n\n  File \"/home/pkomiske/.local/lib/python3.8/site-packages/tensorflow/python/data/ops/dataset_ops.py\", line 842, in generator_py_func\n    ret_arrays.append(script_ops.FuncRegistry._convert(  # pylint: disable=protected-access\n\n  File \"/home/pkomiske/.local/lib/python3.8/site-packages/tensorflow/python/ops/script_ops.py\", line 204, in _convert\n    result = np.asarray(value, dtype=dtype, order=\"C\")\n\n  File \"/home/pkomiske/.local/lib/python3.8/site-packages/numpy/core/_asarray.py\", line 83, in asarray\n    return array(a, dtype, copy=False, order=order)\n\nValueError: could not broadcast input array from shape (49,2) into shape (49)\n\n\nDuring handling of the above exception, another exception occurred:\n\n\nTraceback (most recent call last):\n\n  File \"/home/pkomiske/.local/lib/python3.8/site-packages/tensorflow/python/ops/script_ops.py\", line 244, in __call__\n    ret = func(*args)\n\n  File \"/home/pkomiske/.local/lib/python3.8/site-packages/tensorflow/python/autograph/impl/api.py\", line 302, in wrapper\n    return func(*args, **kwargs)\n\n  File \"/home/pkomiske/.local/lib/python3.8/site-packages/tensorflow/python/data/ops/dataset_ops.py\", line 845, in generator_py_func\n    six.reraise(TypeError, TypeError(\n\n  File \"/usr/lib/python3/dist-packages/six.py\", line 702, in reraise\n    raise value.with_traceback(tb)\n\n  File \"/home/pkomiske/.local/lib/python3.8/site-packages/tensorflow/python/data/ops/dataset_ops.py\", line 842, in generator_py_func\n    ret_arrays.append(script_ops.FuncRegistry._convert(  # pylint: disable=protected-access\n\n  File \"/home/pkomiske/.local/lib/python3.8/site-packages/tensorflow/python/ops/script_ops.py\", line 204, in _convert\n    result = np.asarray(value, dtype=dtype, order=\"C\")\n\n  File \"/home/pkomiske/.local/lib/python3.8/site-packages/numpy/core/_asarray.py\", line 83, in asarray\n    return array(a, dtype, copy=False, order=order)\n\nTypeError: `generator` yielded an element that could not be converted to the expected type. The expected type was float64, but the yielded element was (array([1.55805992e-04, 3.09940222e-03, 2.75630667e-03, 4.18105241e-03,\n       4.42553043e-03, 4.73962813e-04, 1.34788840e-03, 3.97825052e-03,\n       2.06414032e-03, 2.07097368e-03, 2.80241157e-03, 3.07364337e-03,\n       4.16936673e-03, 1.02444531e-03, 8.10773558e-04, 2.94415682e-03,\n       7.33718182e-03, 3.41485663e-03, 8.88909015e-03, 7.57798702e-03,\n       2.77567553e-03, 2.91540280e-04, 6.23680858e-03, 2.55978176e-03,\n       5.24034575e-03, 1.77698967e-02, 4.04757623e-03, 3.88675621e-03,\n       5.24140409e-03, 4.44374262e-03, 1.06204548e-03, 3.41156341e-03,\n       2.04517878e-02, 5.03235004e-03, 2.91949302e-02, 3.17085406e-02,\n       7.72992607e-03, 2.37704276e-02, 1.23474694e-02, 1.33794326e-02,\n       1.52389228e-02, 9.09262197e-03, 1.05772026e-01, 2.71705960e-02,\n       1.43403527e-01, 9.04701766e-02, 3.05911814e-02, 9.49185106e-02,\n       2.16163211e-01]), array([[ 0.19248437,  0.3461863 ],\n       [ 0.3675758 , -0.06018309],\n       [ 0.36051839, -0.01365127],\n       [ 0.30113706,  0.12930311],\n       [-0.29814711,  0.09671627],\n       [-0.27293419,  0.13015404],\n       [ 0.23699159,  0.1721216 ],\n       [ 0.27727496, -0.09054323],\n       [-0.17247736,  0.20063009],\n       [-0.18975678,  0.16961485],\n       [-0.00741954,  0.25014938],\n       [ 0.16423588, -0.18005299],\n       [ 0.06607018,  0.22524107],\n       [ 0.22043351,  0.05049798],\n       [-0.00959724,  0.19835357],\n       [ 0.15573233, -0.09224549],\n       [-0.02294287,  0.16881301],\n       [ 0.02671373,  0.16311659],\n       [ 0.14900243, -0.06982081],\n       [ 0.10357708,  0.09952685],\n       [-0.14028639,  0.05056917],\n       [-0.14554286, -0.00410983],\n       [-0.04781289, -0.13076487],\n       [-0.08040988, -0.10946832],\n       [-0.12316611, -0.01686442],\n       [ 0.07692814,  0.06958431],\n       [-0.02891244,  0.09970079],\n       [ 0.00361535, -0.10636913],\n       [-0.04665436,  0.07503408],\n       [ 0.03465284,  0.07053366],\n       [ 0.01344654,  0.07470778],\n       [ 0.06469194, -0.0157268 ],\n       [ 0.00185343,  0.05993081],\n       [ 0.01215789, -0.06001301],\n       [ 0.04500963, -0.01911479],\n       [ 0.0387456 , -0.02518022],\n       [-0.01419446, -0.05757466],\n       [-0.02318235, -0.05526764],\n       [-0.03892598,  0.02871542],\n       [ 0.03000704, -0.0042287 ],\n       [ 0.006802  ,  0.02714326],\n       [-0.01573388,  0.02691451],\n       [ 0.00312822,  0.01690549],\n       [-0.0174402 ,  0.00246172],\n       [-0.01135729, -0.0042963 ],\n       [-0.00780601, -0.01465968],\n       [-0.01134854, -0.01452791],\n       [-0.01472366, -0.01167076],\n       [-0.01657076, -0.01153503]])).\n\n\n\t [[{{node PyFunc}}]] [Op:IteratorGetNext]",
      "\nDuring handling of the above exception, another exception occurred:\n",
      "\u001b[0;31mInvalidArgumentError\u001b[0m                      Traceback (most recent call last)",
      "\u001b[0;32m<ipython-input-26-fb8184480215>\u001b[0m in \u001b[0;36m<module>\u001b[0;34m\u001b[0m\n\u001b[0;32m----> 1\u001b[0;31m \u001b[0mlen\u001b[0m\u001b[0;34m(\u001b[0m\u001b[0mlist\u001b[0m\u001b[0;34m(\u001b[0m\u001b[0md\u001b[0m\u001b[0;34m.\u001b[0m\u001b[0mtake\u001b[0m\u001b[0;34m(\u001b[0m\u001b[0;36m10\u001b[0m\u001b[0;34m)\u001b[0m\u001b[0;34m.\u001b[0m\u001b[0mas_numpy_iterator\u001b[0m\u001b[0;34m(\u001b[0m\u001b[0;34m)\u001b[0m\u001b[0;34m)\u001b[0m\u001b[0;34m)\u001b[0m\u001b[0;34m\u001b[0m\u001b[0;34m\u001b[0m\u001b[0m\n\u001b[0m",
      "\u001b[0;32m~/.local/lib/python3.8/site-packages/tensorflow/python/data/ops/dataset_ops.py\u001b[0m in \u001b[0;36m__next__\u001b[0;34m(self)\u001b[0m\n\u001b[1;32m   3781\u001b[0m \u001b[0;34m\u001b[0m\u001b[0m\n\u001b[1;32m   3782\u001b[0m   \u001b[0;32mdef\u001b[0m \u001b[0m__next__\u001b[0m\u001b[0;34m(\u001b[0m\u001b[0mself\u001b[0m\u001b[0;34m)\u001b[0m\u001b[0;34m:\u001b[0m\u001b[0;34m\u001b[0m\u001b[0;34m\u001b[0m\u001b[0m\n\u001b[0;32m-> 3783\u001b[0;31m     \u001b[0;32mreturn\u001b[0m \u001b[0mself\u001b[0m\u001b[0;34m.\u001b[0m\u001b[0mnext\u001b[0m\u001b[0;34m(\u001b[0m\u001b[0;34m)\u001b[0m\u001b[0;34m\u001b[0m\u001b[0;34m\u001b[0m\u001b[0m\n\u001b[0m\u001b[1;32m   3784\u001b[0m \u001b[0;34m\u001b[0m\u001b[0m\n\u001b[1;32m   3785\u001b[0m \u001b[0;34m\u001b[0m\u001b[0m\n",
      "\u001b[0;32m~/.local/lib/python3.8/site-packages/tensorflow/python/data/ops/dataset_ops.py\u001b[0m in \u001b[0;36mnext\u001b[0;34m(self)\u001b[0m\n\u001b[1;32m   3778\u001b[0m \u001b[0;34m\u001b[0m\u001b[0m\n\u001b[1;32m   3779\u001b[0m   \u001b[0;32mdef\u001b[0m \u001b[0mnext\u001b[0m\u001b[0;34m(\u001b[0m\u001b[0mself\u001b[0m\u001b[0;34m)\u001b[0m\u001b[0;34m:\u001b[0m\u001b[0;34m\u001b[0m\u001b[0;34m\u001b[0m\u001b[0m\n\u001b[0;32m-> 3780\u001b[0;31m     \u001b[0;32mreturn\u001b[0m \u001b[0mnest\u001b[0m\u001b[0;34m.\u001b[0m\u001b[0mmap_structure\u001b[0m\u001b[0;34m(\u001b[0m\u001b[0;32mlambda\u001b[0m \u001b[0mx\u001b[0m\u001b[0;34m:\u001b[0m \u001b[0mx\u001b[0m\u001b[0;34m.\u001b[0m\u001b[0mnumpy\u001b[0m\u001b[0;34m(\u001b[0m\u001b[0;34m)\u001b[0m\u001b[0;34m,\u001b[0m \u001b[0mnext\u001b[0m\u001b[0;34m(\u001b[0m\u001b[0mself\u001b[0m\u001b[0;34m.\u001b[0m\u001b[0m_iterator\u001b[0m\u001b[0;34m)\u001b[0m\u001b[0;34m)\u001b[0m\u001b[0;34m\u001b[0m\u001b[0;34m\u001b[0m\u001b[0m\n\u001b[0m\u001b[1;32m   3781\u001b[0m \u001b[0;34m\u001b[0m\u001b[0m\n\u001b[1;32m   3782\u001b[0m   \u001b[0;32mdef\u001b[0m \u001b[0m__next__\u001b[0m\u001b[0;34m(\u001b[0m\u001b[0mself\u001b[0m\u001b[0;34m)\u001b[0m\u001b[0;34m:\u001b[0m\u001b[0;34m\u001b[0m\u001b[0;34m\u001b[0m\u001b[0m\n",
      "\u001b[0;32m~/.local/lib/python3.8/site-packages/tensorflow/python/data/ops/iterator_ops.py\u001b[0m in \u001b[0;36m__next__\u001b[0;34m(self)\u001b[0m\n\u001b[1;32m    734\u001b[0m \u001b[0;34m\u001b[0m\u001b[0m\n\u001b[1;32m    735\u001b[0m   \u001b[0;32mdef\u001b[0m \u001b[0m__next__\u001b[0m\u001b[0;34m(\u001b[0m\u001b[0mself\u001b[0m\u001b[0;34m)\u001b[0m\u001b[0;34m:\u001b[0m  \u001b[0;31m# For Python 3 compatibility\u001b[0m\u001b[0;34m\u001b[0m\u001b[0;34m\u001b[0m\u001b[0m\n\u001b[0;32m--> 736\u001b[0;31m     \u001b[0;32mreturn\u001b[0m \u001b[0mself\u001b[0m\u001b[0;34m.\u001b[0m\u001b[0mnext\u001b[0m\u001b[0;34m(\u001b[0m\u001b[0;34m)\u001b[0m\u001b[0;34m\u001b[0m\u001b[0;34m\u001b[0m\u001b[0m\n\u001b[0m\u001b[1;32m    737\u001b[0m \u001b[0;34m\u001b[0m\u001b[0m\n\u001b[1;32m    738\u001b[0m   \u001b[0;32mdef\u001b[0m \u001b[0m_next_internal\u001b[0m\u001b[0;34m(\u001b[0m\u001b[0mself\u001b[0m\u001b[0;34m)\u001b[0m\u001b[0;34m:\u001b[0m\u001b[0;34m\u001b[0m\u001b[0;34m\u001b[0m\u001b[0m\n",
      "\u001b[0;32m~/.local/lib/python3.8/site-packages/tensorflow/python/data/ops/iterator_ops.py\u001b[0m in \u001b[0;36mnext\u001b[0;34m(self)\u001b[0m\n\u001b[1;32m    770\u001b[0m   \u001b[0;32mdef\u001b[0m \u001b[0mnext\u001b[0m\u001b[0;34m(\u001b[0m\u001b[0mself\u001b[0m\u001b[0;34m)\u001b[0m\u001b[0;34m:\u001b[0m\u001b[0;34m\u001b[0m\u001b[0;34m\u001b[0m\u001b[0m\n\u001b[1;32m    771\u001b[0m     \u001b[0;32mtry\u001b[0m\u001b[0;34m:\u001b[0m\u001b[0;34m\u001b[0m\u001b[0;34m\u001b[0m\u001b[0m\n\u001b[0;32m--> 772\u001b[0;31m       \u001b[0;32mreturn\u001b[0m \u001b[0mself\u001b[0m\u001b[0;34m.\u001b[0m\u001b[0m_next_internal\u001b[0m\u001b[0;34m(\u001b[0m\u001b[0;34m)\u001b[0m\u001b[0;34m\u001b[0m\u001b[0;34m\u001b[0m\u001b[0m\n\u001b[0m\u001b[1;32m    773\u001b[0m     \u001b[0;32mexcept\u001b[0m \u001b[0merrors\u001b[0m\u001b[0;34m.\u001b[0m\u001b[0mOutOfRangeError\u001b[0m\u001b[0;34m:\u001b[0m\u001b[0;34m\u001b[0m\u001b[0;34m\u001b[0m\u001b[0m\n\u001b[1;32m    774\u001b[0m       \u001b[0;32mraise\u001b[0m \u001b[0mStopIteration\u001b[0m\u001b[0;34m\u001b[0m\u001b[0;34m\u001b[0m\u001b[0m\n",
      "\u001b[0;32m~/.local/lib/python3.8/site-packages/tensorflow/python/data/ops/iterator_ops.py\u001b[0m in \u001b[0;36m_next_internal\u001b[0;34m(self)\u001b[0m\n\u001b[1;32m    762\u001b[0m         \u001b[0;32mreturn\u001b[0m \u001b[0mself\u001b[0m\u001b[0;34m.\u001b[0m\u001b[0m_element_spec\u001b[0m\u001b[0;34m.\u001b[0m\u001b[0m_from_compatible_tensor_list\u001b[0m\u001b[0;34m(\u001b[0m\u001b[0mret\u001b[0m\u001b[0;34m)\u001b[0m  \u001b[0;31m# pylint: disable=protected-access\u001b[0m\u001b[0;34m\u001b[0m\u001b[0;34m\u001b[0m\u001b[0m\n\u001b[1;32m    763\u001b[0m       \u001b[0;32mexcept\u001b[0m \u001b[0mAttributeError\u001b[0m\u001b[0;34m:\u001b[0m\u001b[0;34m\u001b[0m\u001b[0;34m\u001b[0m\u001b[0m\n\u001b[0;32m--> 764\u001b[0;31m         \u001b[0;32mreturn\u001b[0m \u001b[0mstructure\u001b[0m\u001b[0;34m.\u001b[0m\u001b[0mfrom_compatible_tensor_list\u001b[0m\u001b[0;34m(\u001b[0m\u001b[0mself\u001b[0m\u001b[0;34m.\u001b[0m\u001b[0m_element_spec\u001b[0m\u001b[0;34m,\u001b[0m \u001b[0mret\u001b[0m\u001b[0;34m)\u001b[0m\u001b[0;34m\u001b[0m\u001b[0;34m\u001b[0m\u001b[0m\n\u001b[0m\u001b[1;32m    765\u001b[0m \u001b[0;34m\u001b[0m\u001b[0m\n\u001b[1;32m    766\u001b[0m   \u001b[0;34m@\u001b[0m\u001b[0mproperty\u001b[0m\u001b[0;34m\u001b[0m\u001b[0;34m\u001b[0m\u001b[0m\n",
      "\u001b[0;32m/usr/lib/python3.8/contextlib.py\u001b[0m in \u001b[0;36m__exit__\u001b[0;34m(self, type, value, traceback)\u001b[0m\n\u001b[1;32m    129\u001b[0m                 \u001b[0mvalue\u001b[0m \u001b[0;34m=\u001b[0m \u001b[0mtype\u001b[0m\u001b[0;34m(\u001b[0m\u001b[0;34m)\u001b[0m\u001b[0;34m\u001b[0m\u001b[0;34m\u001b[0m\u001b[0m\n\u001b[1;32m    130\u001b[0m             \u001b[0;32mtry\u001b[0m\u001b[0;34m:\u001b[0m\u001b[0;34m\u001b[0m\u001b[0;34m\u001b[0m\u001b[0m\n\u001b[0;32m--> 131\u001b[0;31m                 \u001b[0mself\u001b[0m\u001b[0;34m.\u001b[0m\u001b[0mgen\u001b[0m\u001b[0;34m.\u001b[0m\u001b[0mthrow\u001b[0m\u001b[0;34m(\u001b[0m\u001b[0mtype\u001b[0m\u001b[0;34m,\u001b[0m \u001b[0mvalue\u001b[0m\u001b[0;34m,\u001b[0m \u001b[0mtraceback\u001b[0m\u001b[0;34m)\u001b[0m\u001b[0;34m\u001b[0m\u001b[0;34m\u001b[0m\u001b[0m\n\u001b[0m\u001b[1;32m    132\u001b[0m             \u001b[0;32mexcept\u001b[0m \u001b[0mStopIteration\u001b[0m \u001b[0;32mas\u001b[0m \u001b[0mexc\u001b[0m\u001b[0;34m:\u001b[0m\u001b[0;34m\u001b[0m\u001b[0;34m\u001b[0m\u001b[0m\n\u001b[1;32m    133\u001b[0m                 \u001b[0;31m# Suppress StopIteration *unless* it's the same exception that\u001b[0m\u001b[0;34m\u001b[0m\u001b[0;34m\u001b[0m\u001b[0;34m\u001b[0m\u001b[0m\n",
      "\u001b[0;32m~/.local/lib/python3.8/site-packages/tensorflow/python/eager/context.py\u001b[0m in \u001b[0;36mexecution_mode\u001b[0;34m(mode)\u001b[0m\n\u001b[1;32m   2103\u001b[0m     \u001b[0;32mfinally\u001b[0m\u001b[0;34m:\u001b[0m\u001b[0;34m\u001b[0m\u001b[0;34m\u001b[0m\u001b[0m\n\u001b[1;32m   2104\u001b[0m       \u001b[0mctx\u001b[0m\u001b[0;34m.\u001b[0m\u001b[0mexecutor\u001b[0m \u001b[0;34m=\u001b[0m \u001b[0mexecutor_old\u001b[0m\u001b[0;34m\u001b[0m\u001b[0;34m\u001b[0m\u001b[0m\n\u001b[0;32m-> 2105\u001b[0;31m       \u001b[0mexecutor_new\u001b[0m\u001b[0;34m.\u001b[0m\u001b[0mwait\u001b[0m\u001b[0;34m(\u001b[0m\u001b[0;34m)\u001b[0m\u001b[0;34m\u001b[0m\u001b[0;34m\u001b[0m\u001b[0m\n\u001b[0m\u001b[1;32m   2106\u001b[0m \u001b[0;34m\u001b[0m\u001b[0m\n\u001b[1;32m   2107\u001b[0m \u001b[0;34m\u001b[0m\u001b[0m\n",
      "\u001b[0;32m~/.local/lib/python3.8/site-packages/tensorflow/python/eager/executor.py\u001b[0m in \u001b[0;36mwait\u001b[0;34m(self)\u001b[0m\n\u001b[1;32m     65\u001b[0m   \u001b[0;32mdef\u001b[0m \u001b[0mwait\u001b[0m\u001b[0;34m(\u001b[0m\u001b[0mself\u001b[0m\u001b[0;34m)\u001b[0m\u001b[0;34m:\u001b[0m\u001b[0;34m\u001b[0m\u001b[0;34m\u001b[0m\u001b[0m\n\u001b[1;32m     66\u001b[0m     \u001b[0;34m\"\"\"Waits for ops dispatched in this executor to finish.\"\"\"\u001b[0m\u001b[0;34m\u001b[0m\u001b[0;34m\u001b[0m\u001b[0m\n\u001b[0;32m---> 67\u001b[0;31m     \u001b[0mpywrap_tfe\u001b[0m\u001b[0;34m.\u001b[0m\u001b[0mTFE_ExecutorWaitForAllPendingNodes\u001b[0m\u001b[0;34m(\u001b[0m\u001b[0mself\u001b[0m\u001b[0;34m.\u001b[0m\u001b[0m_handle\u001b[0m\u001b[0;34m)\u001b[0m\u001b[0;34m\u001b[0m\u001b[0;34m\u001b[0m\u001b[0m\n\u001b[0m\u001b[1;32m     68\u001b[0m \u001b[0;34m\u001b[0m\u001b[0m\n\u001b[1;32m     69\u001b[0m   \u001b[0;32mdef\u001b[0m \u001b[0mclear_error\u001b[0m\u001b[0;34m(\u001b[0m\u001b[0mself\u001b[0m\u001b[0;34m)\u001b[0m\u001b[0;34m:\u001b[0m\u001b[0;34m\u001b[0m\u001b[0;34m\u001b[0m\u001b[0m\n",
      "\u001b[0;31mInvalidArgumentError\u001b[0m: TypeError: `generator` yielded an element that could not be converted to the expected type. The expected type was float64, but the yielded element was (array([1.55805992e-04, 3.09940222e-03, 2.75630667e-03, 4.18105241e-03,\n       4.42553043e-03, 4.73962813e-04, 1.34788840e-03, 3.97825052e-03,\n       2.06414032e-03, 2.07097368e-03, 2.80241157e-03, 3.07364337e-03,\n       4.16936673e-03, 1.02444531e-03, 8.10773558e-04, 2.94415682e-03,\n       7.33718182e-03, 3.41485663e-03, 8.88909015e-03, 7.57798702e-03,\n       2.77567553e-03, 2.91540280e-04, 6.23680858e-03, 2.55978176e-03,\n       5.24034575e-03, 1.77698967e-02, 4.04757623e-03, 3.88675621e-03,\n       5.24140409e-03, 4.44374262e-03, 1.06204548e-03, 3.41156341e-03,\n       2.04517878e-02, 5.03235004e-03, 2.91949302e-02, 3.17085406e-02,\n       7.72992607e-03, 2.37704276e-02, 1.23474694e-02, 1.33794326e-02,\n       1.52389228e-02, 9.09262197e-03, 1.05772026e-01, 2.71705960e-02,\n       1.43403527e-01, 9.04701766e-02, 3.05911814e-02, 9.49185106e-02,\n       2.16163211e-01]), array([[ 0.19248437,  0.3461863 ],\n       [ 0.3675758 , -0.06018309],\n       [ 0.36051839, -0.01365127],\n       [ 0.30113706,  0.12930311],\n       [-0.29814711,  0.09671627],\n       [-0.27293419,  0.13015404],\n       [ 0.23699159,  0.1721216 ],\n       [ 0.27727496, -0.09054323],\n       [-0.17247736,  0.20063009],\n       [-0.18975678,  0.16961485],\n       [-0.00741954,  0.25014938],\n       [ 0.16423588, -0.18005299],\n       [ 0.06607018,  0.22524107],\n       [ 0.22043351,  0.05049798],\n       [-0.00959724,  0.19835357],\n       [ 0.15573233, -0.09224549],\n       [-0.02294287,  0.16881301],\n       [ 0.02671373,  0.16311659],\n       [ 0.14900243, -0.06982081],\n       [ 0.10357708,  0.09952685],\n       [-0.14028639,  0.05056917],\n       [-0.14554286, -0.00410983],\n       [-0.04781289, -0.13076487],\n       [-0.08040988, -0.10946832],\n       [-0.12316611, -0.01686442],\n       [ 0.07692814,  0.06958431],\n       [-0.02891244,  0.09970079],\n       [ 0.00361535, -0.10636913],\n       [-0.04665436,  0.07503408],\n       [ 0.03465284,  0.07053366],\n       [ 0.01344654,  0.07470778],\n       [ 0.06469194, -0.0157268 ],\n       [ 0.00185343,  0.05993081],\n       [ 0.01215789, -0.06001301],\n       [ 0.04500963, -0.01911479],\n       [ 0.0387456 , -0.02518022],\n       [-0.01419446, -0.05757466],\n       [-0.02318235, -0.05526764],\n       [-0.03892598,  0.02871542],\n       [ 0.03000704, -0.0042287 ],\n       [ 0.006802  ,  0.02714326],\n       [-0.01573388,  0.02691451],\n       [ 0.00312822,  0.01690549],\n       [-0.0174402 ,  0.00246172],\n       [-0.01135729, -0.0042963 ],\n       [-0.00780601, -0.01465968],\n       [-0.01134854, -0.01452791],\n       [-0.01472366, -0.01167076],\n       [-0.01657076, -0.01153503]])).\nTraceback (most recent call last):\n\n  File \"/home/pkomiske/.local/lib/python3.8/site-packages/tensorflow/python/data/ops/dataset_ops.py\", line 842, in generator_py_func\n    ret_arrays.append(script_ops.FuncRegistry._convert(  # pylint: disable=protected-access\n\n  File \"/home/pkomiske/.local/lib/python3.8/site-packages/tensorflow/python/ops/script_ops.py\", line 204, in _convert\n    result = np.asarray(value, dtype=dtype, order=\"C\")\n\n  File \"/home/pkomiske/.local/lib/python3.8/site-packages/numpy/core/_asarray.py\", line 83, in asarray\n    return array(a, dtype, copy=False, order=order)\n\nValueError: could not broadcast input array from shape (49,2) into shape (49)\n\n\nDuring handling of the above exception, another exception occurred:\n\n\nTraceback (most recent call last):\n\n  File \"/home/pkomiske/.local/lib/python3.8/site-packages/tensorflow/python/ops/script_ops.py\", line 244, in __call__\n    ret = func(*args)\n\n  File \"/home/pkomiske/.local/lib/python3.8/site-packages/tensorflow/python/autograph/impl/api.py\", line 302, in wrapper\n    return func(*args, **kwargs)\n\n  File \"/home/pkomiske/.local/lib/python3.8/site-packages/tensorflow/python/data/ops/dataset_ops.py\", line 845, in generator_py_func\n    six.reraise(TypeError, TypeError(\n\n  File \"/usr/lib/python3/dist-packages/six.py\", line 702, in reraise\n    raise value.with_traceback(tb)\n\n  File \"/home/pkomiske/.local/lib/python3.8/site-packages/tensorflow/python/data/ops/dataset_ops.py\", line 842, in generator_py_func\n    ret_arrays.append(script_ops.FuncRegistry._convert(  # pylint: disable=protected-access\n\n  File \"/home/pkomiske/.local/lib/python3.8/site-packages/tensorflow/python/ops/script_ops.py\", line 204, in _convert\n    result = np.asarray(value, dtype=dtype, order=\"C\")\n\n  File \"/home/pkomiske/.local/lib/python3.8/site-packages/numpy/core/_asarray.py\", line 83, in asarray\n    return array(a, dtype, copy=False, order=order)\n\nTypeError: `generator` yielded an element that could not be converted to the expected type. The expected type was float64, but the yielded element was (array([1.55805992e-04, 3.09940222e-03, 2.75630667e-03, 4.18105241e-03,\n       4.42553043e-03, 4.73962813e-04, 1.34788840e-03, 3.97825052e-03,\n       2.06414032e-03, 2.07097368e-03, 2.80241157e-03, 3.07364337e-03,\n       4.16936673e-03, 1.02444531e-03, 8.10773558e-04, 2.94415682e-03,\n       7.33718182e-03, 3.41485663e-03, 8.88909015e-03, 7.57798702e-03,\n       2.77567553e-03, 2.91540280e-04, 6.23680858e-03, 2.55978176e-03,\n       5.24034575e-03, 1.77698967e-02, 4.04757623e-03, 3.88675621e-03,\n       5.24140409e-03, 4.44374262e-03, 1.06204548e-03, 3.41156341e-03,\n       2.04517878e-02, 5.03235004e-03, 2.91949302e-02, 3.17085406e-02,\n       7.72992607e-03, 2.37704276e-02, 1.23474694e-02, 1.33794326e-02,\n       1.52389228e-02, 9.09262197e-03, 1.05772026e-01, 2.71705960e-02,\n       1.43403527e-01, 9.04701766e-02, 3.05911814e-02, 9.49185106e-02,\n       2.16163211e-01]), array([[ 0.19248437,  0.3461863 ],\n       [ 0.3675758 , -0.06018309],\n       [ 0.36051839, -0.01365127],\n       [ 0.30113706,  0.12930311],\n       [-0.29814711,  0.09671627],\n       [-0.27293419,  0.13015404],\n       [ 0.23699159,  0.1721216 ],\n       [ 0.27727496, -0.09054323],\n       [-0.17247736,  0.20063009],\n       [-0.18975678,  0.16961485],\n       [-0.00741954,  0.25014938],\n       [ 0.16423588, -0.18005299],\n       [ 0.06607018,  0.22524107],\n       [ 0.22043351,  0.05049798],\n       [-0.00959724,  0.19835357],\n       [ 0.15573233, -0.09224549],\n       [-0.02294287,  0.16881301],\n       [ 0.02671373,  0.16311659],\n       [ 0.14900243, -0.06982081],\n       [ 0.10357708,  0.09952685],\n       [-0.14028639,  0.05056917],\n       [-0.14554286, -0.00410983],\n       [-0.04781289, -0.13076487],\n       [-0.08040988, -0.10946832],\n       [-0.12316611, -0.01686442],\n       [ 0.07692814,  0.06958431],\n       [-0.02891244,  0.09970079],\n       [ 0.00361535, -0.10636913],\n       [-0.04665436,  0.07503408],\n       [ 0.03465284,  0.07053366],\n       [ 0.01344654,  0.07470778],\n       [ 0.06469194, -0.0157268 ],\n       [ 0.00185343,  0.05993081],\n       [ 0.01215789, -0.06001301],\n       [ 0.04500963, -0.01911479],\n       [ 0.0387456 , -0.02518022],\n       [-0.01419446, -0.05757466],\n       [-0.02318235, -0.05526764],\n       [-0.03892598,  0.02871542],\n       [ 0.03000704, -0.0042287 ],\n       [ 0.006802  ,  0.02714326],\n       [-0.01573388,  0.02691451],\n       [ 0.00312822,  0.01690549],\n       [-0.0174402 ,  0.00246172],\n       [-0.01135729, -0.0042963 ],\n       [-0.00780601, -0.01465968],\n       [-0.01134854, -0.01452791],\n       [-0.01472366, -0.01167076],\n       [-0.01657076, -0.01153503]])).\n\n\n\t [[{{node PyFunc}}]]"
     ]
    }
   ],
   "source": [
    "len(list(d.take(10).as_numpy_iterator()))"
   ]
  },
  {
   "cell_type": "code",
   "execution_count": 13,
   "metadata": {},
   "outputs": [
    {
     "name": "stdout",
     "output_type": "stream",
     "text": [
      "(5, 57, 4) (5,)\n",
      "(5, 63, 4) (5,)\n",
      "(5, 86, 4) (5,)\n",
      "(5, 67, 4) (5,)\n",
      "(5, 68, 4) (5,)\n",
      "(5, 47, 4) (5,)\n",
      "(5, 62, 4) (5,)\n",
      "(5, 64, 4) (5,)\n",
      "(5, 64, 4) (5,)\n",
      "(5, 59, 4) (5,)\n"
     ]
    }
   ],
   "source": [
    "for x,y in d.padded_batch(5).take(10).as_numpy_iterator():\n",
    "    print(x.shape,y.shape)"
   ]
  },
  {
   "cell_type": "code",
   "execution_count": 15,
   "metadata": {},
   "outputs": [
    {
     "data": {
      "text/plain": [
       "<zip at 0x7f36d04e6580>"
      ]
     },
     "execution_count": 15,
     "metadata": {},
     "output_type": "execute_result"
    }
   ],
   "source": [
    "zip(X)"
   ]
  },
  {
   "cell_type": "code",
   "execution_count": 2,
   "metadata": {
    "scrolled": false
   },
   "outputs": [
    {
     "name": "stdout",
     "output_type": "stream",
     "text": [
      "Loaded quark and gluon jets\n",
      "Finished preprocessing\n",
      "Done train/val/test split\n"
     ]
    }
   ],
   "source": [
    "################################### SETTINGS ###################################\n",
    "\n",
    "# data controls, can go up to 2000000 total for full dataset\n",
    "train, val, test = 75000, 10000, 15000\n",
    "\n",
    "# network architecture parameters\n",
    "ppm_sizes = (100, 100, 128)\n",
    "dense_sizes = (100, 100, 100)\n",
    "\n",
    "# network training parameters\n",
    "num_epoch = 25\n",
    "batch_size = 500\n",
    "\n",
    "################################################################################\n",
    "\n",
    "# load data\n",
    "X, y = qg_jets.load(train + val + test)\n",
    "\n",
    "# ignore pid information\n",
    "X = X[:,:,:3]\n",
    "\n",
    "# convert labels to categorical\n",
    "Y = to_categorical(y, num_classes=2)\n",
    "\n",
    "print('Loaded quark and gluon jets')\n",
    "\n",
    "# preprocess by centering jets and normalizing pts\n",
    "for x in X:\n",
    "    mask = x[:,0] > 0\n",
    "    yphi_avg = np.average(x[mask,1:3], weights=x[mask,0], axis=0)\n",
    "    x[mask,1:3] -= yphi_avg\n",
    "    x[mask,0] /= x[:,0].sum()\n",
    "\n",
    "print('Finished preprocessing')\n",
    "\n",
    "# do train/val/test split \n",
    "(z_train, z_val, z_test, \n",
    " p_train, p_val, p_test,\n",
    " Y_train, Y_val, Y_test) = data_split(X[:,:,0], X[:,:,1:], Y, val=val, test=test)\n",
    "\n",
    "print('Done train/val/test split')"
   ]
  },
  {
   "cell_type": "code",
   "execution_count": 4,
   "metadata": {},
   "outputs": [
    {
     "name": "stdout",
     "output_type": "stream",
     "text": [
      "Model: \"functional_3\"\n",
      "__________________________________________________________________________________________________\n",
      "Layer (type)                    Output Shape         Param #     Connected to                     \n",
      "==================================================================================================\n",
      "input (InputLayer)              [(None, None, 2)]    0                                            \n",
      "__________________________________________________________________________________________________\n",
      "tdist_0 (TimeDistributed)       (None, None, 100)    300         input[0][0]                      \n",
      "__________________________________________________________________________________________________\n",
      "activation_7 (Activation)       (None, None, 100)    0           tdist_0[0][0]                    \n",
      "__________________________________________________________________________________________________\n",
      "tdist_1 (TimeDistributed)       (None, None, 100)    10100       activation_7[0][0]               \n",
      "__________________________________________________________________________________________________\n",
      "activation_8 (Activation)       (None, None, 100)    0           tdist_1[0][0]                    \n",
      "__________________________________________________________________________________________________\n",
      "tdist_2 (TimeDistributed)       (None, None, 128)    12928       activation_8[0][0]               \n",
      "__________________________________________________________________________________________________\n",
      "mask (Lambda)                   (None, None)         0           input[0][0]                      \n",
      "__________________________________________________________________________________________________\n",
      "activation_9 (Activation)       (None, None, 128)    0           tdist_2[0][0]                    \n",
      "__________________________________________________________________________________________________\n",
      "sum (Dot)                       (None, 128)          0           mask[0][0]                       \n",
      "                                                                 activation_9[0][0]               \n",
      "__________________________________________________________________________________________________\n",
      "additional_F_inputs (InputLayer [(None, 10)]         0                                            \n",
      "__________________________________________________________________________________________________\n",
      "concat (Concatenate)            (None, 138)          0           sum[0][0]                        \n",
      "                                                                 additional_F_inputs[0][0]        \n",
      "__________________________________________________________________________________________________\n",
      "dense_0 (Dense)                 (None, 100)          13900       concat[0][0]                     \n",
      "__________________________________________________________________________________________________\n",
      "activation_10 (Activation)      (None, 100)          0           dense_0[0][0]                    \n",
      "__________________________________________________________________________________________________\n",
      "dense_1 (Dense)                 (None, 100)          10100       activation_10[0][0]              \n",
      "__________________________________________________________________________________________________\n",
      "activation_11 (Activation)      (None, 100)          0           dense_1[0][0]                    \n",
      "__________________________________________________________________________________________________\n",
      "dense_2 (Dense)                 (None, 100)          10100       activation_11[0][0]              \n",
      "__________________________________________________________________________________________________\n",
      "activation_12 (Activation)      (None, 100)          0           dense_2[0][0]                    \n",
      "__________________________________________________________________________________________________\n",
      "output (Dense)                  (None, 2)            202         activation_12[0][0]              \n",
      "__________________________________________________________________________________________________\n",
      "activation_13 (Activation)      (None, 2)            0           output[0][0]                     \n",
      "==================================================================================================\n",
      "Total params: 57,630\n",
      "Trainable params: 57,630\n",
      "Non-trainable params: 0\n",
      "__________________________________________________________________________________________________\n"
     ]
    }
   ],
   "source": [
    "# build architecture\n",
    "pfn = ef.archs.efn.PFNAdditionalFInputs(input_dim=2, Phi_sizes=(100, 100, 128), F_sizes=(100, 100, 100),\n",
    "                                        additional_F_inputs_dim=10)"
   ]
  },
  {
   "cell_type": "code",
   "execution_count": 5,
   "metadata": {},
   "outputs": [
    {
     "data": {
      "text/plain": [
       "energyflow.archs.efn.PFNAdditionalFInputs"
      ]
     },
     "execution_count": 5,
     "metadata": {},
     "output_type": "execute_result"
    }
   ],
   "source": [
    "type(pfn)"
   ]
  },
  {
   "cell_type": "code",
   "execution_count": 6,
   "metadata": {},
   "outputs": [
    {
     "data": {
      "text/plain": [
       "[0, 'p', 1, 2, 3, 4, 5]"
      ]
     },
     "execution_count": 6,
     "metadata": {},
     "output_type": "execute_result"
    }
   ],
   "source": [
    "a = [0, 1, 2, 3, 4, 5]\n",
    "a.insert(1, 'p')\n",
    "a"
   ]
  },
  {
   "cell_type": "code",
   "execution_count": null,
   "metadata": {},
   "outputs": [],
   "source": []
  },
  {
   "cell_type": "code",
   "execution_count": 4,
   "metadata": {},
   "outputs": [
    {
     "data": {
      "text/plain": [
       "[<tf.Tensor 'mask/mul:0' shape=(None, None) dtype=float32>,\n",
       " <tf.Tensor 'zs_input:0' shape=(None, None) dtype=float32>,\n",
       " <tf.Tensor 'phats_input:0' shape=(None, None, 2) dtype=float32>,\n",
       " <tf.Tensor 'tdist_0/Reshape_1:0' shape=(None, None, 100) dtype=float32>,\n",
       " <tf.Tensor 'activation/Relu:0' shape=(None, None, 100) dtype=float32>,\n",
       " <tf.Tensor 'sum/Squeeze:0' shape=(None, 100) dtype=float32>,\n",
       " <tf.Tensor 'output/BiasAdd:0' shape=(None, 2) dtype=float32>,\n",
       " <tf.Tensor 'activation_1/Softmax:0' shape=(None, 2) dtype=float32>]"
      ]
     },
     "execution_count": 4,
     "metadata": {},
     "output_type": "execute_result"
    }
   ],
   "source": [
    "efn.tensors"
   ]
  },
  {
   "cell_type": "code",
   "execution_count": null,
   "metadata": {},
   "outputs": [],
   "source": []
  },
  {
   "cell_type": "code",
   "execution_count": null,
   "metadata": {},
   "outputs": [],
   "source": [
    "\n",
    "# train model\n",
    "efn.fit([z_train, p_train], Y_train,\n",
    "          epochs=num_epoch,\n",
    "          batch_size=batch_size,\n",
    "          validation_data=([z_val, p_val], Y_val),\n",
    "          verbose=2)\n",
    "\n",
    "# get predictions on test data\n",
    "preds = efn.predict([z_test, p_test], batch_size=1000)\n",
    "\n",
    "# get ROC curve if we have sklearn\n",
    "if roc_curve:\n",
    "    efn_fp, efn_tp, threshs = roc_curve(Y_test[:,1], preds[:,1])\n",
    "\n",
    "    # get area under the ROC curve\n",
    "    auc = roc_auc_score(Y_test[:,1], preds[:,1])\n",
    "    print()\n",
    "    print('EFN AUC:', auc)\n",
    "    print()\n",
    "\n",
    "    # make ROC curve and filter plot if we have matplotlib\n",
    "    if plt:\n",
    "\n",
    "        # some nicer plot settings \n",
    "        plt.rcParams['font.family'] = 'serif'\n",
    "        plt.rcParams['figure.autolayout'] = True\n",
    "\n",
    "        fig, axes = plt.subplots(1, 2, figsize=(8,4))\n",
    "\n",
    "        ######################### ROC Curve Plot #########################\n",
    "\n",
    "        # get multiplicity and mass for comparison\n",
    "        masses = np.asarray([ef.ms_from_p4s(ef.p4s_from_ptyphims(x).sum(axis=0)) for x in X])\n",
    "        mults = np.asarray([np.count_nonzero(x[:,0]) for x in X])\n",
    "        mass_fp, mass_tp, threshs = roc_curve(Y[:,1], -masses)\n",
    "        mult_fp, mult_tp, threshs = roc_curve(Y[:,1], -mults)\n",
    "\n",
    "        # plot the ROC curves\n",
    "        axes[0].plot(efn_tp, 1-efn_fp, '-', color='black', label='EFN')\n",
    "        axes[0].plot(mass_tp, 1-mass_fp, '-', color='blue', label='Jet Mass')\n",
    "        axes[0].plot(mult_tp, 1-mult_fp, '-', color='red', label='Multiplicity')\n",
    "\n",
    "        # axes labels\n",
    "        axes[0].set_xlabel('Quark Jet Efficiency')\n",
    "        axes[0].set_ylabel('Gluon Jet Rejection')\n",
    "\n",
    "        # axes limits\n",
    "        axes[0].set_xlim(0, 1)\n",
    "        axes[0].set_ylim(0, 1)\n",
    "\n",
    "        # make legend and show plot\n",
    "        axes[0].legend(loc='lower left', frameon=False)\n",
    "\n",
    "        ######################### Filter Plot #########################\n",
    "\n",
    "        # plot settings\n",
    "        R, n = 0.4, 100\n",
    "        colors = ['Reds', 'Oranges', 'Greens', 'Blues', 'Purples', 'Greys']\n",
    "        grads = np.linspace(0.45, 0.55, 4)\n",
    "\n",
    "        # evaluate filters\n",
    "        X, Y, Z = efn.eval_filters(R, n=n)\n",
    "\n",
    "        # plot filters\n",
    "        for i,z in enumerate(Z):\n",
    "            axes[1].contourf(X, Y, z/np.max(z), grads, cmap=colors[i%len(colors)])\n",
    "        \n",
    "        axes[1].set_xticks(np.linspace(-R, R, 5))\n",
    "        axes[1].set_yticks(np.linspace(-R, R, 5))\n",
    "        axes[1].set_xticklabels(['-R', '-R/2', '0', 'R/2', 'R'])\n",
    "        axes[1].set_yticklabels(['-R', '-R/2', '0', 'R/2', 'R'])\n",
    "        axes[1].set_xlabel('Translated Rapidity y')\n",
    "        axes[1].set_ylabel('Translated Azimuthal Angle phi')\n",
    "        axes[1].set_title('Energy Flow Network Latent Space', fontdict={'fontsize': 10})\n",
    "    \n",
    "        plt.show()"
   ]
  }
 ],
 "metadata": {
  "kernelspec": {
   "display_name": "Python 3",
   "language": "python",
   "name": "python3"
  },
  "language_info": {
   "codemirror_mode": {
    "name": "ipython",
    "version": 3
   },
   "file_extension": ".py",
   "mimetype": "text/x-python",
   "name": "python",
   "nbconvert_exporter": "python",
   "pygments_lexer": "ipython3",
   "version": "3.8.5"
  }
 },
 "nbformat": 4,
 "nbformat_minor": 2
}
